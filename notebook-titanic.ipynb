{
 "cells": [
  {
   "cell_type": "code",
   "execution_count": 1,
   "id": "73f3b9b6",
   "metadata": {
    "execution": {
     "iopub.execute_input": "2022-08-01T09:32:28.693820Z",
     "iopub.status.busy": "2022-08-01T09:32:28.693320Z",
     "iopub.status.idle": "2022-08-01T09:32:30.568742Z",
     "shell.execute_reply": "2022-08-01T09:32:30.567123Z"
    },
    "papermill": {
     "duration": 1.901337,
     "end_time": "2022-08-01T09:32:30.571830",
     "exception": false,
     "start_time": "2022-08-01T09:32:28.670493",
     "status": "completed"
    },
    "tags": []
   },
   "outputs": [],
   "source": [
    "import numpy as np # linear algebra\n",
    "import pandas as pd # data processing, CSV file I/O (e.g. pd.read_csv)\n",
    "import matplotlib.pyplot as plt\n",
    "import seaborn as sns\n",
    "\n",
    "from sklearn.svm import SVC\n",
    "from sklearn.tree import DecisionTreeClassifier\n",
    "from sklearn.ensemble import RandomForestClassifier\n",
    "from sklearn.ensemble import AdaBoostClassifier\n",
    "from xgboost import XGBClassifier\n",
    "from xgboost import XGBRFClassifier\n",
    "from sklearn.neural_network import MLPClassifier\n",
    "\n",
    "from sklearn.model_selection import cross_val_score\n",
    "from sklearn.model_selection import GridSearchCV\n",
    "# from sklearn.metrics import accuracy_score"
   ]
  },
  {
   "cell_type": "code",
   "execution_count": 2,
   "id": "42b57b56",
   "metadata": {
    "execution": {
     "iopub.execute_input": "2022-08-01T09:32:30.621231Z",
     "iopub.status.busy": "2022-08-01T09:32:30.619961Z",
     "iopub.status.idle": "2022-08-01T09:32:30.657685Z",
     "shell.execute_reply": "2022-08-01T09:32:30.656658Z"
    },
    "papermill": {
     "duration": 0.067389,
     "end_time": "2022-08-01T09:32:30.660590",
     "exception": false,
     "start_time": "2022-08-01T09:32:30.593201",
     "status": "completed"
    },
    "tags": []
   },
   "outputs": [],
   "source": [
    "train = pd.read_csv('../input/titanic/train.csv')\n",
    "test = pd.read_csv('../input/titanic/test.csv')"
   ]
  },
  {
   "cell_type": "markdown",
   "id": "f4363c2d",
   "metadata": {
    "papermill": {
     "duration": 0.019546,
     "end_time": "2022-08-01T09:32:30.701871",
     "exception": false,
     "start_time": "2022-08-01T09:32:30.682325",
     "status": "completed"
    },
    "tags": []
   },
   "source": [
    "# Look at data"
   ]
  },
  {
   "cell_type": "markdown",
   "id": "45ba9dce",
   "metadata": {
    "papermill": {
     "duration": 0.019512,
     "end_time": "2022-08-01T09:32:30.741235",
     "exception": false,
     "start_time": "2022-08-01T09:32:30.721723",
     "status": "completed"
    },
    "tags": []
   },
   "source": [
    "### Show data"
   ]
  },
  {
   "cell_type": "code",
   "execution_count": 3,
   "id": "89ece6cf",
   "metadata": {
    "execution": {
     "iopub.execute_input": "2022-08-01T09:32:30.783255Z",
     "iopub.status.busy": "2022-08-01T09:32:30.782278Z",
     "iopub.status.idle": "2022-08-01T09:32:30.813332Z",
     "shell.execute_reply": "2022-08-01T09:32:30.811995Z"
    },
    "papermill": {
     "duration": 0.055725,
     "end_time": "2022-08-01T09:32:30.816782",
     "exception": false,
     "start_time": "2022-08-01T09:32:30.761057",
     "status": "completed"
    },
    "tags": []
   },
   "outputs": [
    {
     "data": {
      "text/html": [
       "<div>\n",
       "<style scoped>\n",
       "    .dataframe tbody tr th:only-of-type {\n",
       "        vertical-align: middle;\n",
       "    }\n",
       "\n",
       "    .dataframe tbody tr th {\n",
       "        vertical-align: top;\n",
       "    }\n",
       "\n",
       "    .dataframe thead th {\n",
       "        text-align: right;\n",
       "    }\n",
       "</style>\n",
       "<table border=\"1\" class=\"dataframe\">\n",
       "  <thead>\n",
       "    <tr style=\"text-align: right;\">\n",
       "      <th></th>\n",
       "      <th>PassengerId</th>\n",
       "      <th>Survived</th>\n",
       "      <th>Pclass</th>\n",
       "      <th>Name</th>\n",
       "      <th>Sex</th>\n",
       "      <th>Age</th>\n",
       "      <th>SibSp</th>\n",
       "      <th>Parch</th>\n",
       "      <th>Ticket</th>\n",
       "      <th>Fare</th>\n",
       "      <th>Cabin</th>\n",
       "      <th>Embarked</th>\n",
       "    </tr>\n",
       "  </thead>\n",
       "  <tbody>\n",
       "    <tr>\n",
       "      <th>0</th>\n",
       "      <td>1</td>\n",
       "      <td>0</td>\n",
       "      <td>3</td>\n",
       "      <td>Braund, Mr. Owen Harris</td>\n",
       "      <td>male</td>\n",
       "      <td>22.0</td>\n",
       "      <td>1</td>\n",
       "      <td>0</td>\n",
       "      <td>A/5 21171</td>\n",
       "      <td>7.2500</td>\n",
       "      <td>NaN</td>\n",
       "      <td>S</td>\n",
       "    </tr>\n",
       "    <tr>\n",
       "      <th>1</th>\n",
       "      <td>2</td>\n",
       "      <td>1</td>\n",
       "      <td>1</td>\n",
       "      <td>Cumings, Mrs. John Bradley (Florence Briggs Th...</td>\n",
       "      <td>female</td>\n",
       "      <td>38.0</td>\n",
       "      <td>1</td>\n",
       "      <td>0</td>\n",
       "      <td>PC 17599</td>\n",
       "      <td>71.2833</td>\n",
       "      <td>C85</td>\n",
       "      <td>C</td>\n",
       "    </tr>\n",
       "    <tr>\n",
       "      <th>2</th>\n",
       "      <td>3</td>\n",
       "      <td>1</td>\n",
       "      <td>3</td>\n",
       "      <td>Heikkinen, Miss. Laina</td>\n",
       "      <td>female</td>\n",
       "      <td>26.0</td>\n",
       "      <td>0</td>\n",
       "      <td>0</td>\n",
       "      <td>STON/O2. 3101282</td>\n",
       "      <td>7.9250</td>\n",
       "      <td>NaN</td>\n",
       "      <td>S</td>\n",
       "    </tr>\n",
       "    <tr>\n",
       "      <th>3</th>\n",
       "      <td>4</td>\n",
       "      <td>1</td>\n",
       "      <td>1</td>\n",
       "      <td>Futrelle, Mrs. Jacques Heath (Lily May Peel)</td>\n",
       "      <td>female</td>\n",
       "      <td>35.0</td>\n",
       "      <td>1</td>\n",
       "      <td>0</td>\n",
       "      <td>113803</td>\n",
       "      <td>53.1000</td>\n",
       "      <td>C123</td>\n",
       "      <td>S</td>\n",
       "    </tr>\n",
       "    <tr>\n",
       "      <th>4</th>\n",
       "      <td>5</td>\n",
       "      <td>0</td>\n",
       "      <td>3</td>\n",
       "      <td>Allen, Mr. William Henry</td>\n",
       "      <td>male</td>\n",
       "      <td>35.0</td>\n",
       "      <td>0</td>\n",
       "      <td>0</td>\n",
       "      <td>373450</td>\n",
       "      <td>8.0500</td>\n",
       "      <td>NaN</td>\n",
       "      <td>S</td>\n",
       "    </tr>\n",
       "  </tbody>\n",
       "</table>\n",
       "</div>"
      ],
      "text/plain": [
       "   PassengerId  Survived  Pclass  \\\n",
       "0            1         0       3   \n",
       "1            2         1       1   \n",
       "2            3         1       3   \n",
       "3            4         1       1   \n",
       "4            5         0       3   \n",
       "\n",
       "                                                Name     Sex   Age  SibSp  \\\n",
       "0                            Braund, Mr. Owen Harris    male  22.0      1   \n",
       "1  Cumings, Mrs. John Bradley (Florence Briggs Th...  female  38.0      1   \n",
       "2                             Heikkinen, Miss. Laina  female  26.0      0   \n",
       "3       Futrelle, Mrs. Jacques Heath (Lily May Peel)  female  35.0      1   \n",
       "4                           Allen, Mr. William Henry    male  35.0      0   \n",
       "\n",
       "   Parch            Ticket     Fare Cabin Embarked  \n",
       "0      0         A/5 21171   7.2500   NaN        S  \n",
       "1      0          PC 17599  71.2833   C85        C  \n",
       "2      0  STON/O2. 3101282   7.9250   NaN        S  \n",
       "3      0            113803  53.1000  C123        S  \n",
       "4      0            373450   8.0500   NaN        S  "
      ]
     },
     "execution_count": 3,
     "metadata": {},
     "output_type": "execute_result"
    }
   ],
   "source": [
    "train.head()"
   ]
  },
  {
   "cell_type": "code",
   "execution_count": 4,
   "id": "3ee623dc",
   "metadata": {
    "execution": {
     "iopub.execute_input": "2022-08-01T09:32:30.859604Z",
     "iopub.status.busy": "2022-08-01T09:32:30.858667Z",
     "iopub.status.idle": "2022-08-01T09:32:30.881712Z",
     "shell.execute_reply": "2022-08-01T09:32:30.880279Z"
    },
    "papermill": {
     "duration": 0.047229,
     "end_time": "2022-08-01T09:32:30.884400",
     "exception": false,
     "start_time": "2022-08-01T09:32:30.837171",
     "status": "completed"
    },
    "tags": []
   },
   "outputs": [
    {
     "data": {
      "text/html": [
       "<div>\n",
       "<style scoped>\n",
       "    .dataframe tbody tr th:only-of-type {\n",
       "        vertical-align: middle;\n",
       "    }\n",
       "\n",
       "    .dataframe tbody tr th {\n",
       "        vertical-align: top;\n",
       "    }\n",
       "\n",
       "    .dataframe thead th {\n",
       "        text-align: right;\n",
       "    }\n",
       "</style>\n",
       "<table border=\"1\" class=\"dataframe\">\n",
       "  <thead>\n",
       "    <tr style=\"text-align: right;\">\n",
       "      <th></th>\n",
       "      <th>PassengerId</th>\n",
       "      <th>Pclass</th>\n",
       "      <th>Name</th>\n",
       "      <th>Sex</th>\n",
       "      <th>Age</th>\n",
       "      <th>SibSp</th>\n",
       "      <th>Parch</th>\n",
       "      <th>Ticket</th>\n",
       "      <th>Fare</th>\n",
       "      <th>Cabin</th>\n",
       "      <th>Embarked</th>\n",
       "    </tr>\n",
       "  </thead>\n",
       "  <tbody>\n",
       "    <tr>\n",
       "      <th>0</th>\n",
       "      <td>892</td>\n",
       "      <td>3</td>\n",
       "      <td>Kelly, Mr. James</td>\n",
       "      <td>male</td>\n",
       "      <td>34.5</td>\n",
       "      <td>0</td>\n",
       "      <td>0</td>\n",
       "      <td>330911</td>\n",
       "      <td>7.8292</td>\n",
       "      <td>NaN</td>\n",
       "      <td>Q</td>\n",
       "    </tr>\n",
       "    <tr>\n",
       "      <th>1</th>\n",
       "      <td>893</td>\n",
       "      <td>3</td>\n",
       "      <td>Wilkes, Mrs. James (Ellen Needs)</td>\n",
       "      <td>female</td>\n",
       "      <td>47.0</td>\n",
       "      <td>1</td>\n",
       "      <td>0</td>\n",
       "      <td>363272</td>\n",
       "      <td>7.0000</td>\n",
       "      <td>NaN</td>\n",
       "      <td>S</td>\n",
       "    </tr>\n",
       "    <tr>\n",
       "      <th>2</th>\n",
       "      <td>894</td>\n",
       "      <td>2</td>\n",
       "      <td>Myles, Mr. Thomas Francis</td>\n",
       "      <td>male</td>\n",
       "      <td>62.0</td>\n",
       "      <td>0</td>\n",
       "      <td>0</td>\n",
       "      <td>240276</td>\n",
       "      <td>9.6875</td>\n",
       "      <td>NaN</td>\n",
       "      <td>Q</td>\n",
       "    </tr>\n",
       "    <tr>\n",
       "      <th>3</th>\n",
       "      <td>895</td>\n",
       "      <td>3</td>\n",
       "      <td>Wirz, Mr. Albert</td>\n",
       "      <td>male</td>\n",
       "      <td>27.0</td>\n",
       "      <td>0</td>\n",
       "      <td>0</td>\n",
       "      <td>315154</td>\n",
       "      <td>8.6625</td>\n",
       "      <td>NaN</td>\n",
       "      <td>S</td>\n",
       "    </tr>\n",
       "    <tr>\n",
       "      <th>4</th>\n",
       "      <td>896</td>\n",
       "      <td>3</td>\n",
       "      <td>Hirvonen, Mrs. Alexander (Helga E Lindqvist)</td>\n",
       "      <td>female</td>\n",
       "      <td>22.0</td>\n",
       "      <td>1</td>\n",
       "      <td>1</td>\n",
       "      <td>3101298</td>\n",
       "      <td>12.2875</td>\n",
       "      <td>NaN</td>\n",
       "      <td>S</td>\n",
       "    </tr>\n",
       "  </tbody>\n",
       "</table>\n",
       "</div>"
      ],
      "text/plain": [
       "   PassengerId  Pclass                                          Name     Sex  \\\n",
       "0          892       3                              Kelly, Mr. James    male   \n",
       "1          893       3              Wilkes, Mrs. James (Ellen Needs)  female   \n",
       "2          894       2                     Myles, Mr. Thomas Francis    male   \n",
       "3          895       3                              Wirz, Mr. Albert    male   \n",
       "4          896       3  Hirvonen, Mrs. Alexander (Helga E Lindqvist)  female   \n",
       "\n",
       "    Age  SibSp  Parch   Ticket     Fare Cabin Embarked  \n",
       "0  34.5      0      0   330911   7.8292   NaN        Q  \n",
       "1  47.0      1      0   363272   7.0000   NaN        S  \n",
       "2  62.0      0      0   240276   9.6875   NaN        Q  \n",
       "3  27.0      0      0   315154   8.6625   NaN        S  \n",
       "4  22.0      1      1  3101298  12.2875   NaN        S  "
      ]
     },
     "execution_count": 4,
     "metadata": {},
     "output_type": "execute_result"
    }
   ],
   "source": [
    "test.head()"
   ]
  },
  {
   "cell_type": "code",
   "execution_count": 5,
   "id": "cd18d9a1",
   "metadata": {
    "execution": {
     "iopub.execute_input": "2022-08-01T09:32:30.928415Z",
     "iopub.status.busy": "2022-08-01T09:32:30.927062Z",
     "iopub.status.idle": "2022-08-01T09:32:30.964954Z",
     "shell.execute_reply": "2022-08-01T09:32:30.963673Z"
    },
    "papermill": {
     "duration": 0.063993,
     "end_time": "2022-08-01T09:32:30.968679",
     "exception": false,
     "start_time": "2022-08-01T09:32:30.904686",
     "status": "completed"
    },
    "tags": []
   },
   "outputs": [
    {
     "name": "stdout",
     "output_type": "stream",
     "text": [
      "<class 'pandas.core.frame.DataFrame'>\n",
      "RangeIndex: 891 entries, 0 to 890\n",
      "Data columns (total 12 columns):\n",
      " #   Column       Non-Null Count  Dtype  \n",
      "---  ------       --------------  -----  \n",
      " 0   PassengerId  891 non-null    int64  \n",
      " 1   Survived     891 non-null    int64  \n",
      " 2   Pclass       891 non-null    int64  \n",
      " 3   Name         891 non-null    object \n",
      " 4   Sex          891 non-null    object \n",
      " 5   Age          714 non-null    float64\n",
      " 6   SibSp        891 non-null    int64  \n",
      " 7   Parch        891 non-null    int64  \n",
      " 8   Ticket       891 non-null    object \n",
      " 9   Fare         891 non-null    float64\n",
      " 10  Cabin        204 non-null    object \n",
      " 11  Embarked     889 non-null    object \n",
      "dtypes: float64(2), int64(5), object(5)\n",
      "memory usage: 83.7+ KB\n",
      "\n",
      "\n",
      "<class 'pandas.core.frame.DataFrame'>\n",
      "RangeIndex: 418 entries, 0 to 417\n",
      "Data columns (total 11 columns):\n",
      " #   Column       Non-Null Count  Dtype  \n",
      "---  ------       --------------  -----  \n",
      " 0   PassengerId  418 non-null    int64  \n",
      " 1   Pclass       418 non-null    int64  \n",
      " 2   Name         418 non-null    object \n",
      " 3   Sex          418 non-null    object \n",
      " 4   Age          332 non-null    float64\n",
      " 5   SibSp        418 non-null    int64  \n",
      " 6   Parch        418 non-null    int64  \n",
      " 7   Ticket       418 non-null    object \n",
      " 8   Fare         417 non-null    float64\n",
      " 9   Cabin        91 non-null     object \n",
      " 10  Embarked     418 non-null    object \n",
      "dtypes: float64(2), int64(4), object(5)\n",
      "memory usage: 36.0+ KB\n"
     ]
    }
   ],
   "source": [
    "train.info()\n",
    "print(\"\\n\")\n",
    "test.info()"
   ]
  },
  {
   "cell_type": "markdown",
   "id": "8e5d5ea2",
   "metadata": {
    "papermill": {
     "duration": 0.020788,
     "end_time": "2022-08-01T09:32:31.013274",
     "exception": false,
     "start_time": "2022-08-01T09:32:30.992486",
     "status": "completed"
    },
    "tags": []
   },
   "source": [
    "### Null values"
   ]
  },
  {
   "cell_type": "code",
   "execution_count": 6,
   "id": "fbf797f1",
   "metadata": {
    "execution": {
     "iopub.execute_input": "2022-08-01T09:32:31.058648Z",
     "iopub.status.busy": "2022-08-01T09:32:31.057649Z",
     "iopub.status.idle": "2022-08-01T09:32:31.682968Z",
     "shell.execute_reply": "2022-08-01T09:32:31.681371Z"
    },
    "papermill": {
     "duration": 0.651553,
     "end_time": "2022-08-01T09:32:31.685590",
     "exception": false,
     "start_time": "2022-08-01T09:32:31.034037",
     "status": "completed"
    },
    "tags": []
   },
   "outputs": [
    {
     "data": {
      "text/plain": [
       "<AxesSubplot:>"
      ]
     },
     "execution_count": 6,
     "metadata": {},
     "output_type": "execute_result"
    },
    {
     "data": {
      "image/png": "[encoded data removed]",
      "text/plain": [
       "<Figure size 864x576 with 1 Axes>"
      ]
     },
     "metadata": {
      "needs_background": "light"
     },
     "output_type": "display_data"
    }
   ],
   "source": [
    "plt.subplots(figsize=(12,8))\n",
    "sns.heatmap(train.isnull(), cmap='rocket_r', cbar=False)"
   ]
  },
  {
   "cell_type": "markdown",
   "id": "cdf9aeff",
   "metadata": {
    "papermill": {
     "duration": 0.020529,
     "end_time": "2022-08-01T09:32:31.727436",
     "exception": false,
     "start_time": "2022-08-01T09:32:31.706907",
     "status": "completed"
    },
    "tags": []
   },
   "source": [
    "**Observations**\n",
    "* statistics for train and test set are similar\n",
    "* drop Cabin becaouse of nulls\n"
   ]
  },
  {
   "cell_type": "markdown",
   "id": "26d925ec",
   "metadata": {
    "papermill": {
     "duration": 0.020642,
     "end_time": "2022-08-01T09:32:31.769072",
     "exception": false,
     "start_time": "2022-08-01T09:32:31.748430",
     "status": "completed"
    },
    "tags": []
   },
   "source": [
    "# Analyzing"
   ]
  },
  {
   "cell_type": "markdown",
   "id": "417e31e0",
   "metadata": {
    "papermill": {
     "duration": 0.020556,
     "end_time": "2022-08-01T09:32:31.810576",
     "exception": false,
     "start_time": "2022-08-01T09:32:31.790020",
     "status": "completed"
    },
    "tags": []
   },
   "source": [
    "### Numerical values"
   ]
  },
  {
   "cell_type": "code",
   "execution_count": 7,
   "id": "8f100518",
   "metadata": {
    "execution": {
     "iopub.execute_input": "2022-08-01T09:32:31.854382Z",
     "iopub.status.busy": "2022-08-01T09:32:31.853985Z",
     "iopub.status.idle": "2022-08-01T09:32:31.894218Z",
     "shell.execute_reply": "2022-08-01T09:32:31.892907Z"
    },
    "papermill": {
     "duration": 0.065698,
     "end_time": "2022-08-01T09:32:31.897142",
     "exception": false,
     "start_time": "2022-08-01T09:32:31.831444",
     "status": "completed"
    },
    "tags": []
   },
   "outputs": [
    {
     "data": {
      "text/html": [
       "<div>\n",
       "<style scoped>\n",
       "    .dataframe tbody tr th:only-of-type {\n",
       "        vertical-align: middle;\n",
       "    }\n",
       "\n",
       "    .dataframe tbody tr th {\n",
       "        vertical-align: top;\n",
       "    }\n",
       "\n",
       "    .dataframe thead th {\n",
       "        text-align: right;\n",
       "    }\n",
       "</style>\n",
       "<table border=\"1\" class=\"dataframe\">\n",
       "  <thead>\n",
       "    <tr style=\"text-align: right;\">\n",
       "      <th></th>\n",
       "      <th>PassengerId</th>\n",
       "      <th>Survived</th>\n",
       "      <th>Pclass</th>\n",
       "      <th>Age</th>\n",
       "      <th>SibSp</th>\n",
       "      <th>Parch</th>\n",
       "      <th>Fare</th>\n",
       "    </tr>\n",
       "  </thead>\n",
       "  <tbody>\n",
       "    <tr>\n",
       "      <th>count</th>\n",
       "      <td>891.000000</td>\n",
       "      <td>891.000000</td>\n",
       "      <td>891.000000</td>\n",
       "      <td>714.000000</td>\n",
       "      <td>891.000000</td>\n",
       "      <td>891.000000</td>\n",
       "      <td>891.000000</td>\n",
       "    </tr>\n",
       "    <tr>\n",
       "      <th>mean</th>\n",
       "      <td>446.000000</td>\n",
       "      <td>0.383838</td>\n",
       "      <td>2.308642</td>\n",
       "      <td>29.699118</td>\n",
       "      <td>0.523008</td>\n",
       "      <td>0.381594</td>\n",
       "      <td>32.204208</td>\n",
       "    </tr>\n",
       "    <tr>\n",
       "      <th>std</th>\n",
       "      <td>257.353842</td>\n",
       "      <td>0.486592</td>\n",
       "      <td>0.836071</td>\n",
       "      <td>14.526497</td>\n",
       "      <td>1.102743</td>\n",
       "      <td>0.806057</td>\n",
       "      <td>49.693429</td>\n",
       "    </tr>\n",
       "    <tr>\n",
       "      <th>min</th>\n",
       "      <td>1.000000</td>\n",
       "      <td>0.000000</td>\n",
       "      <td>1.000000</td>\n",
       "      <td>0.420000</td>\n",
       "      <td>0.000000</td>\n",
       "      <td>0.000000</td>\n",
       "      <td>0.000000</td>\n",
       "    </tr>\n",
       "    <tr>\n",
       "      <th>25%</th>\n",
       "      <td>223.500000</td>\n",
       "      <td>0.000000</td>\n",
       "      <td>2.000000</td>\n",
       "      <td>20.125000</td>\n",
       "      <td>0.000000</td>\n",
       "      <td>0.000000</td>\n",
       "      <td>7.910400</td>\n",
       "    </tr>\n",
       "    <tr>\n",
       "      <th>50%</th>\n",
       "      <td>446.000000</td>\n",
       "      <td>0.000000</td>\n",
       "      <td>3.000000</td>\n",
       "      <td>28.000000</td>\n",
       "      <td>0.000000</td>\n",
       "      <td>0.000000</td>\n",
       "      <td>14.454200</td>\n",
       "    </tr>\n",
       "    <tr>\n",
       "      <th>75%</th>\n",
       "      <td>668.500000</td>\n",
       "      <td>1.000000</td>\n",
       "      <td>3.000000</td>\n",
       "      <td>38.000000</td>\n",
       "      <td>1.000000</td>\n",
       "      <td>0.000000</td>\n",
       "      <td>31.000000</td>\n",
       "    </tr>\n",
       "    <tr>\n",
       "      <th>max</th>\n",
       "      <td>891.000000</td>\n",
       "      <td>1.000000</td>\n",
       "      <td>3.000000</td>\n",
       "      <td>80.000000</td>\n",
       "      <td>8.000000</td>\n",
       "      <td>6.000000</td>\n",
       "      <td>512.329200</td>\n",
       "    </tr>\n",
       "  </tbody>\n",
       "</table>\n",
       "</div>"
      ],
      "text/plain": [
       "       PassengerId    Survived      Pclass         Age       SibSp  \\\n",
       "count   891.000000  891.000000  891.000000  714.000000  891.000000   \n",
       "mean    446.000000    0.383838    2.308642   29.699118    0.523008   \n",
       "std     257.353842    0.486592    0.836071   14.526497    1.102743   \n",
       "min       1.000000    0.000000    1.000000    0.420000    0.000000   \n",
       "25%     223.500000    0.000000    2.000000   20.125000    0.000000   \n",
       "50%     446.000000    0.000000    3.000000   28.000000    0.000000   \n",
       "75%     668.500000    1.000000    3.000000   38.000000    1.000000   \n",
       "max     891.000000    1.000000    3.000000   80.000000    8.000000   \n",
       "\n",
       "            Parch        Fare  \n",
       "count  891.000000  891.000000  \n",
       "mean     0.381594   32.204208  \n",
       "std      0.806057   49.693429  \n",
       "min      0.000000    0.000000  \n",
       "25%      0.000000    7.910400  \n",
       "50%      0.000000   14.454200  \n",
       "75%      0.000000   31.000000  \n",
       "max      6.000000  512.329200  "
      ]
     },
     "execution_count": 7,
     "metadata": {},
     "output_type": "execute_result"
    }
   ],
   "source": [
    "train.describe()"
   ]
  },
  {
   "cell_type": "code",
   "execution_count": 8,
   "id": "04e9fd5b",
   "metadata": {
    "execution": {
     "iopub.execute_input": "2022-08-01T09:32:31.942559Z",
     "iopub.status.busy": "2022-08-01T09:32:31.941461Z",
     "iopub.status.idle": "2022-08-01T09:32:31.974865Z",
     "shell.execute_reply": "2022-08-01T09:32:31.973499Z"
    },
    "papermill": {
     "duration": 0.05904,
     "end_time": "2022-08-01T09:32:31.977740",
     "exception": false,
     "start_time": "2022-08-01T09:32:31.918700",
     "status": "completed"
    },
    "tags": []
   },
   "outputs": [
    {
     "data": {
      "text/html": [
       "<div>\n",
       "<style scoped>\n",
       "    .dataframe tbody tr th:only-of-type {\n",
       "        vertical-align: middle;\n",
       "    }\n",
       "\n",
       "    .dataframe tbody tr th {\n",
       "        vertical-align: top;\n",
       "    }\n",
       "\n",
       "    .dataframe thead th {\n",
       "        text-align: right;\n",
       "    }\n",
       "</style>\n",
       "<table border=\"1\" class=\"dataframe\">\n",
       "  <thead>\n",
       "    <tr style=\"text-align: right;\">\n",
       "      <th></th>\n",
       "      <th>PassengerId</th>\n",
       "      <th>Pclass</th>\n",
       "      <th>Age</th>\n",
       "      <th>SibSp</th>\n",
       "      <th>Parch</th>\n",
       "      <th>Fare</th>\n",
       "    </tr>\n",
       "  </thead>\n",
       "  <tbody>\n",
       "    <tr>\n",
       "      <th>count</th>\n",
       "      <td>418.000000</td>\n",
       "      <td>418.000000</td>\n",
       "      <td>332.000000</td>\n",
       "      <td>418.000000</td>\n",
       "      <td>418.000000</td>\n",
       "      <td>417.000000</td>\n",
       "    </tr>\n",
       "    <tr>\n",
       "      <th>mean</th>\n",
       "      <td>1100.500000</td>\n",
       "      <td>2.265550</td>\n",
       "      <td>30.272590</td>\n",
       "      <td>0.447368</td>\n",
       "      <td>0.392344</td>\n",
       "      <td>35.627188</td>\n",
       "    </tr>\n",
       "    <tr>\n",
       "      <th>std</th>\n",
       "      <td>120.810458</td>\n",
       "      <td>0.841838</td>\n",
       "      <td>14.181209</td>\n",
       "      <td>0.896760</td>\n",
       "      <td>0.981429</td>\n",
       "      <td>55.907576</td>\n",
       "    </tr>\n",
       "    <tr>\n",
       "      <th>min</th>\n",
       "      <td>892.000000</td>\n",
       "      <td>1.000000</td>\n",
       "      <td>0.170000</td>\n",
       "      <td>0.000000</td>\n",
       "      <td>0.000000</td>\n",
       "      <td>0.000000</td>\n",
       "    </tr>\n",
       "    <tr>\n",
       "      <th>25%</th>\n",
       "      <td>996.250000</td>\n",
       "      <td>1.000000</td>\n",
       "      <td>21.000000</td>\n",
       "      <td>0.000000</td>\n",
       "      <td>0.000000</td>\n",
       "      <td>7.895800</td>\n",
       "    </tr>\n",
       "    <tr>\n",
       "      <th>50%</th>\n",
       "      <td>1100.500000</td>\n",
       "      <td>3.000000</td>\n",
       "      <td>27.000000</td>\n",
       "      <td>0.000000</td>\n",
       "      <td>0.000000</td>\n",
       "      <td>14.454200</td>\n",
       "    </tr>\n",
       "    <tr>\n",
       "      <th>75%</th>\n",
       "      <td>1204.750000</td>\n",
       "      <td>3.000000</td>\n",
       "      <td>39.000000</td>\n",
       "      <td>1.000000</td>\n",
       "      <td>0.000000</td>\n",
       "      <td>31.500000</td>\n",
       "    </tr>\n",
       "    <tr>\n",
       "      <th>max</th>\n",
       "      <td>1309.000000</td>\n",
       "      <td>3.000000</td>\n",
       "      <td>76.000000</td>\n",
       "      <td>8.000000</td>\n",
       "      <td>9.000000</td>\n",
       "      <td>512.329200</td>\n",
       "    </tr>\n",
       "  </tbody>\n",
       "</table>\n",
       "</div>"
      ],
      "text/plain": [
       "       PassengerId      Pclass         Age       SibSp       Parch        Fare\n",
       "count   418.000000  418.000000  332.000000  418.000000  418.000000  417.000000\n",
       "mean   1100.500000    2.265550   30.272590    0.447368    0.392344   35.627188\n",
       "std     120.810458    0.841838   14.181209    0.896760    0.981429   55.907576\n",
       "min     892.000000    1.000000    0.170000    0.000000    0.000000    0.000000\n",
       "25%     996.250000    1.000000   21.000000    0.000000    0.000000    7.895800\n",
       "50%    1100.500000    3.000000   27.000000    0.000000    0.000000   14.454200\n",
       "75%    1204.750000    3.000000   39.000000    1.000000    0.000000   31.500000\n",
       "max    1309.000000    3.000000   76.000000    8.000000    9.000000  512.329200"
      ]
     },
     "execution_count": 8,
     "metadata": {},
     "output_type": "execute_result"
    }
   ],
   "source": [
    "test.describe()"
   ]
  },
  {
   "cell_type": "code",
   "execution_count": 9,
   "id": "ba1731c7",
   "metadata": {
    "execution": {
     "iopub.execute_input": "2022-08-01T09:32:32.024451Z",
     "iopub.status.busy": "2022-08-01T09:32:32.023910Z",
     "iopub.status.idle": "2022-08-01T09:32:32.918869Z",
     "shell.execute_reply": "2022-08-01T09:32:32.917636Z"
    },
    "papermill": {
     "duration": 0.921198,
     "end_time": "2022-08-01T09:32:32.921657",
     "exception": false,
     "start_time": "2022-08-01T09:32:32.000459",
     "status": "completed"
    },
    "tags": []
   },
   "outputs": [
    {
     "data": {
      "text/plain": [
       "array([[<AxesSubplot:title={'center':'Survived'}>,\n",
       "        <AxesSubplot:title={'center':'Pclass'}>],\n",
       "       [<AxesSubplot:title={'center':'Age'}>,\n",
       "        <AxesSubplot:title={'center':'SibSp'}>],\n",
       "       [<AxesSubplot:title={'center':'Parch'}>,\n",
       "        <AxesSubplot:title={'center':'Fare'}>]], dtype=object)"
      ]
     },
     "execution_count": 9,
     "metadata": {},
     "output_type": "execute_result"
    },
    {
     "data": {
      "image/png": "[encoded data removed]",
      "text/plain": [
       "<Figure size 720x576 with 6 Axes>"
      ]
     },
     "metadata": {
      "needs_background": "light"
     },
     "output_type": "display_data"
    }
   ],
   "source": [
    "train.drop(\"PassengerId\", axis=1).hist(figsize=(10,8))"
   ]
  },
  {
   "cell_type": "code",
   "execution_count": 10,
   "id": "23bf8a5f",
   "metadata": {
    "execution": {
     "iopub.execute_input": "2022-08-01T09:32:32.969741Z",
     "iopub.status.busy": "2022-08-01T09:32:32.969314Z",
     "iopub.status.idle": "2022-08-01T09:32:32.989193Z",
     "shell.execute_reply": "2022-08-01T09:32:32.988034Z"
    },
    "papermill": {
     "duration": 0.047335,
     "end_time": "2022-08-01T09:32:32.991924",
     "exception": false,
     "start_time": "2022-08-01T09:32:32.944589",
     "status": "completed"
    },
    "tags": []
   },
   "outputs": [
    {
     "data": {
      "text/html": [
       "<div>\n",
       "<style scoped>\n",
       "    .dataframe tbody tr th:only-of-type {\n",
       "        vertical-align: middle;\n",
       "    }\n",
       "\n",
       "    .dataframe tbody tr th {\n",
       "        vertical-align: top;\n",
       "    }\n",
       "\n",
       "    .dataframe thead th {\n",
       "        text-align: right;\n",
       "    }\n",
       "</style>\n",
       "<table border=\"1\" class=\"dataframe\">\n",
       "  <thead>\n",
       "    <tr style=\"text-align: right;\">\n",
       "      <th></th>\n",
       "      <th>PassengerId</th>\n",
       "      <th>Survived</th>\n",
       "      <th>Pclass</th>\n",
       "      <th>Age</th>\n",
       "      <th>SibSp</th>\n",
       "      <th>Parch</th>\n",
       "      <th>Fare</th>\n",
       "    </tr>\n",
       "  </thead>\n",
       "  <tbody>\n",
       "    <tr>\n",
       "      <th>PassengerId</th>\n",
       "      <td>1.000000</td>\n",
       "      <td>-0.005007</td>\n",
       "      <td>-0.035144</td>\n",
       "      <td>0.036847</td>\n",
       "      <td>-0.057527</td>\n",
       "      <td>-0.001652</td>\n",
       "      <td>0.012658</td>\n",
       "    </tr>\n",
       "    <tr>\n",
       "      <th>Survived</th>\n",
       "      <td>-0.005007</td>\n",
       "      <td>1.000000</td>\n",
       "      <td>-0.338481</td>\n",
       "      <td>-0.077221</td>\n",
       "      <td>-0.035322</td>\n",
       "      <td>0.081629</td>\n",
       "      <td>0.257307</td>\n",
       "    </tr>\n",
       "    <tr>\n",
       "      <th>Pclass</th>\n",
       "      <td>-0.035144</td>\n",
       "      <td>-0.338481</td>\n",
       "      <td>1.000000</td>\n",
       "      <td>-0.369226</td>\n",
       "      <td>0.083081</td>\n",
       "      <td>0.018443</td>\n",
       "      <td>-0.549500</td>\n",
       "    </tr>\n",
       "    <tr>\n",
       "      <th>Age</th>\n",
       "      <td>0.036847</td>\n",
       "      <td>-0.077221</td>\n",
       "      <td>-0.369226</td>\n",
       "      <td>1.000000</td>\n",
       "      <td>-0.308247</td>\n",
       "      <td>-0.189119</td>\n",
       "      <td>0.096067</td>\n",
       "    </tr>\n",
       "    <tr>\n",
       "      <th>SibSp</th>\n",
       "      <td>-0.057527</td>\n",
       "      <td>-0.035322</td>\n",
       "      <td>0.083081</td>\n",
       "      <td>-0.308247</td>\n",
       "      <td>1.000000</td>\n",
       "      <td>0.414838</td>\n",
       "      <td>0.159651</td>\n",
       "    </tr>\n",
       "    <tr>\n",
       "      <th>Parch</th>\n",
       "      <td>-0.001652</td>\n",
       "      <td>0.081629</td>\n",
       "      <td>0.018443</td>\n",
       "      <td>-0.189119</td>\n",
       "      <td>0.414838</td>\n",
       "      <td>1.000000</td>\n",
       "      <td>0.216225</td>\n",
       "    </tr>\n",
       "    <tr>\n",
       "      <th>Fare</th>\n",
       "      <td>0.012658</td>\n",
       "      <td>0.257307</td>\n",
       "      <td>-0.549500</td>\n",
       "      <td>0.096067</td>\n",
       "      <td>0.159651</td>\n",
       "      <td>0.216225</td>\n",
       "      <td>1.000000</td>\n",
       "    </tr>\n",
       "  </tbody>\n",
       "</table>\n",
       "</div>"
      ],
      "text/plain": [
       "             PassengerId  Survived    Pclass       Age     SibSp     Parch  \\\n",
       "PassengerId     1.000000 -0.005007 -0.035144  0.036847 -0.057527 -0.001652   \n",
       "Survived       -0.005007  1.000000 -0.338481 -0.077221 -0.035322  0.081629   \n",
       "Pclass         -0.035144 -0.338481  1.000000 -0.369226  0.083081  0.018443   \n",
       "Age             0.036847 -0.077221 -0.369226  1.000000 -0.308247 -0.189119   \n",
       "SibSp          -0.057527 -0.035322  0.083081 -0.308247  1.000000  0.414838   \n",
       "Parch          -0.001652  0.081629  0.018443 -0.189119  0.414838  1.000000   \n",
       "Fare            0.012658  0.257307 -0.549500  0.096067  0.159651  0.216225   \n",
       "\n",
       "                 Fare  \n",
       "PassengerId  0.012658  \n",
       "Survived     0.257307  \n",
       "Pclass      -0.549500  \n",
       "Age          0.096067  \n",
       "SibSp        0.159651  \n",
       "Parch        0.216225  \n",
       "Fare         1.000000  "
      ]
     },
     "execution_count": 10,
     "metadata": {},
     "output_type": "execute_result"
    }
   ],
   "source": [
    "train.corr()"
   ]
  },
  {
   "cell_type": "code",
   "execution_count": 11,
   "id": "3dd4746a",
   "metadata": {
    "execution": {
     "iopub.execute_input": "2022-08-01T09:32:33.042558Z",
     "iopub.status.busy": "2022-08-01T09:32:33.041639Z",
     "iopub.status.idle": "2022-08-01T09:32:33.501830Z",
     "shell.execute_reply": "2022-08-01T09:32:33.500753Z"
    },
    "papermill": {
     "duration": 0.489127,
     "end_time": "2022-08-01T09:32:33.504583",
     "exception": false,
     "start_time": "2022-08-01T09:32:33.015456",
     "status": "completed"
    },
    "tags": []
   },
   "outputs": [
    {
     "data": {
      "text/plain": [
       "<AxesSubplot:>"
      ]
     },
     "execution_count": 11,
     "metadata": {},
     "output_type": "execute_result"
    },
    {
     "data": {
      "image/png": "[encoded data removed]",
      "text/plain": [
       "<Figure size 720x576 with 2 Axes>"
      ]
     },
     "metadata": {
      "needs_background": "light"
     },
     "output_type": "display_data"
    }
   ],
   "source": [
    "plt.subplots(figsize=(10,8))\n",
    "sns.heatmap(train.drop([\"PassengerId\"], axis=1).corr(),\n",
    "            cmap='RdBu', annot=True, fmt='.2f', cbar=True, vmin=-1, vmax=1)"
   ]
  },
  {
   "cell_type": "markdown",
   "id": "e822fc77",
   "metadata": {
    "papermill": {
     "duration": 0.023244,
     "end_time": "2022-08-01T09:32:33.551440",
     "exception": false,
     "start_time": "2022-08-01T09:32:33.528196",
     "status": "completed"
    },
    "tags": []
   },
   "source": [
    "#### Pclass and Fare"
   ]
  },
  {
   "cell_type": "code",
   "execution_count": 12,
   "id": "6020e60e",
   "metadata": {
    "execution": {
     "iopub.execute_input": "2022-08-01T09:32:33.600558Z",
     "iopub.status.busy": "2022-08-01T09:32:33.600090Z",
     "iopub.status.idle": "2022-08-01T09:32:33.791910Z",
     "shell.execute_reply": "2022-08-01T09:32:33.790520Z"
    },
    "papermill": {
     "duration": 0.220243,
     "end_time": "2022-08-01T09:32:33.795053",
     "exception": false,
     "start_time": "2022-08-01T09:32:33.574810",
     "status": "completed"
    },
    "tags": []
   },
   "outputs": [
    {
     "data": {
      "text/plain": [
       "<AxesSubplot:xlabel='Pclass', ylabel='mean survive'>"
      ]
     },
     "execution_count": 12,
     "metadata": {},
     "output_type": "execute_result"
    },
    {
     "data": {
      "image/png": "[encoded data removed]",
      "text/plain": [
       "<Figure size 432x288 with 1 Axes>"
      ]
     },
     "metadata": {
      "needs_background": "light"
     },
     "output_type": "display_data"
    }
   ],
   "source": [
    "train.groupby('Pclass')['Survived'].mean().plot(kind='bar', ylabel='mean survive')"
   ]
  },
  {
   "cell_type": "code",
   "execution_count": 13,
   "id": "13d7056b",
   "metadata": {
    "execution": {
     "iopub.execute_input": "2022-08-01T09:32:33.846713Z",
     "iopub.status.busy": "2022-08-01T09:32:33.845947Z",
     "iopub.status.idle": "2022-08-01T09:32:34.049988Z",
     "shell.execute_reply": "2022-08-01T09:32:34.048624Z"
    },
    "papermill": {
     "duration": 0.233065,
     "end_time": "2022-08-01T09:32:34.052936",
     "exception": false,
     "start_time": "2022-08-01T09:32:33.819871",
     "status": "completed"
    },
    "tags": []
   },
   "outputs": [
    {
     "data": {
      "text/plain": [
       "<AxesSubplot:xlabel='Pclass', ylabel='Fare'>"
      ]
     },
     "execution_count": 13,
     "metadata": {},
     "output_type": "execute_result"
    },
    {
     "data": {
      "image/png": "[encoded data removed]",
      "text/plain": [
       "<Figure size 432x288 with 1 Axes>"
      ]
     },
     "metadata": {
      "needs_background": "light"
     },
     "output_type": "display_data"
    }
   ],
   "source": [
    "sns.boxplot(x=\"Pclass\", y=\"Fare\", data=train, showfliers=False)"
   ]
  },
  {
   "cell_type": "code",
   "execution_count": 14,
   "id": "a1b70495",
   "metadata": {
    "execution": {
     "iopub.execute_input": "2022-08-01T09:32:34.108939Z",
     "iopub.status.busy": "2022-08-01T09:32:34.108078Z",
     "iopub.status.idle": "2022-08-01T09:32:34.555613Z",
     "shell.execute_reply": "2022-08-01T09:32:34.554659Z"
    },
    "papermill": {
     "duration": 0.478721,
     "end_time": "2022-08-01T09:32:34.558444",
     "exception": false,
     "start_time": "2022-08-01T09:32:34.079723",
     "status": "completed"
    },
    "tags": []
   },
   "outputs": [
    {
     "data": {
      "text/plain": [
       "<AxesSubplot:xlabel='Fare', ylabel='Density'>"
      ]
     },
     "execution_count": 14,
     "metadata": {},
     "output_type": "execute_result"
    },
    {
     "data": {
      "image/png": "[encoded data removed]",
      "text/plain": [
       "<Figure size 1440x360 with 1 Axes>"
      ]
     },
     "metadata": {
      "needs_background": "light"
     },
     "output_type": "display_data"
    }
   ],
   "source": [
    "plt.figure(figsize=(20,5))\n",
    "plt.xlim(0, 50)\n",
    "sns.kdeplot(data=train, x=\"Fare\", hue=\"Pclass\")"
   ]
  },
  {
   "cell_type": "code",
   "execution_count": 15,
   "id": "532061be",
   "metadata": {
    "execution": {
     "iopub.execute_input": "2022-08-01T09:32:34.615863Z",
     "iopub.status.busy": "2022-08-01T09:32:34.615142Z",
     "iopub.status.idle": "2022-08-01T09:32:34.649736Z",
     "shell.execute_reply": "2022-08-01T09:32:34.647683Z"
    },
    "papermill": {
     "duration": 0.068566,
     "end_time": "2022-08-01T09:32:34.654085",
     "exception": false,
     "start_time": "2022-08-01T09:32:34.585519",
     "status": "completed"
    },
    "tags": []
   },
   "outputs": [
    {
     "name": "stdout",
     "output_type": "stream",
     "text": [
      "Float64Index([30.924, 60.287, 93.5, 512.329], dtype='float64')\n",
      "Float64Index([13.0, 14.25, 26.0, 73.5], dtype='float64')\n",
      "Float64Index([7.75, 8.05, 15.5, 69.55], dtype='float64')\n"
     ]
    }
   ],
   "source": [
    "print(pd.qcut(train[train['Pclass'] == 1]['Fare'], 4).cat.categories.right)\n",
    "print(pd.qcut(train[train['Pclass'] == 2]['Fare'], 4).cat.categories.right)\n",
    "print(pd.qcut(train[train['Pclass'] == 3]['Fare'], 4).cat.categories.right)"
   ]
  },
  {
   "cell_type": "code",
   "execution_count": 16,
   "id": "03454903",
   "metadata": {
    "execution": {
     "iopub.execute_input": "2022-08-01T09:32:34.712425Z",
     "iopub.status.busy": "2022-08-01T09:32:34.711631Z",
     "iopub.status.idle": "2022-08-01T09:32:36.113552Z",
     "shell.execute_reply": "2022-08-01T09:32:36.112359Z"
    },
    "papermill": {
     "duration": 1.434147,
     "end_time": "2022-08-01T09:32:36.116368",
     "exception": false,
     "start_time": "2022-08-01T09:32:34.682221",
     "status": "completed"
    },
    "tags": []
   },
   "outputs": [
    {
     "data": {
      "text/plain": [
       "<seaborn.axisgrid.FacetGrid at 0x7f0a5b0b9810>"
      ]
     },
     "execution_count": 16,
     "metadata": {},
     "output_type": "execute_result"
    },
    {
     "data": {
      "image/png": "[encoded data removed]",
      "text/plain": [
       "<Figure size 432x648 with 6 Axes>"
      ]
     },
     "metadata": {
      "needs_background": "light"
     },
     "output_type": "display_data"
    }
   ],
   "source": [
    "g = sns.FacetGrid(train, row=\"Pclass\", col=\"Survived\")\n",
    "g.map_dataframe(sns.histplot, x=\"Age\", bins=10)"
   ]
  },
  {
   "cell_type": "code",
   "execution_count": 17,
   "id": "e9e12509",
   "metadata": {
    "execution": {
     "iopub.execute_input": "2022-08-01T09:32:36.171625Z",
     "iopub.status.busy": "2022-08-01T09:32:36.171176Z",
     "iopub.status.idle": "2022-08-01T09:32:36.183154Z",
     "shell.execute_reply": "2022-08-01T09:32:36.181566Z"
    },
    "papermill": {
     "duration": 0.043491,
     "end_time": "2022-08-01T09:32:36.186232",
     "exception": false,
     "start_time": "2022-08-01T09:32:36.142741",
     "status": "completed"
    },
    "tags": []
   },
   "outputs": [
    {
     "data": {
      "text/plain": [
       "Float64Index([7.91, 14.454, 31.0, 512.329], dtype='float64')"
      ]
     },
     "execution_count": 17,
     "metadata": {},
     "output_type": "execute_result"
    }
   ],
   "source": [
    "pd.qcut(train['Fare'], 4).cat.categories.right"
   ]
  },
  {
   "cell_type": "markdown",
   "id": "d80bcd1d",
   "metadata": {
    "papermill": {
     "duration": 0.026267,
     "end_time": "2022-08-01T09:32:36.239618",
     "exception": false,
     "start_time": "2022-08-01T09:32:36.213351",
     "status": "completed"
    },
    "tags": []
   },
   "source": [
    "#### Age"
   ]
  },
  {
   "cell_type": "code",
   "execution_count": 18,
   "id": "59db9035",
   "metadata": {
    "execution": {
     "iopub.execute_input": "2022-08-01T09:32:36.294907Z",
     "iopub.status.busy": "2022-08-01T09:32:36.294314Z",
     "iopub.status.idle": "2022-08-01T09:32:36.847471Z",
     "shell.execute_reply": "2022-08-01T09:32:36.846070Z"
    },
    "papermill": {
     "duration": 0.585098,
     "end_time": "2022-08-01T09:32:36.850600",
     "exception": false,
     "start_time": "2022-08-01T09:32:36.265502",
     "status": "completed"
    },
    "tags": []
   },
   "outputs": [
    {
     "data": {
      "text/plain": [
       "<seaborn.axisgrid.FacetGrid at 0x7f0a52c03690>"
      ]
     },
     "execution_count": 18,
     "metadata": {},
     "output_type": "execute_result"
    },
    {
     "data": {
      "image/png": "[encoded data removed]",
      "text/plain": [
       "<Figure size 432x216 with 2 Axes>"
      ]
     },
     "metadata": {
      "needs_background": "light"
     },
     "output_type": "display_data"
    }
   ],
   "source": [
    "g = sns.FacetGrid(train, col=\"Survived\")\n",
    "g.map_dataframe(sns.histplot, x=\"Age\", bins=20)"
   ]
  },
  {
   "cell_type": "markdown",
   "id": "fab00a4f",
   "metadata": {
    "papermill": {
     "duration": 0.026885,
     "end_time": "2022-08-01T09:32:36.903796",
     "exception": false,
     "start_time": "2022-08-01T09:32:36.876911",
     "status": "completed"
    },
    "tags": []
   },
   "source": [
    "#### SibSp and Parch"
   ]
  },
  {
   "cell_type": "code",
   "execution_count": 19,
   "id": "b835ee81",
   "metadata": {
    "execution": {
     "iopub.execute_input": "2022-08-01T09:32:36.958637Z",
     "iopub.status.busy": "2022-08-01T09:32:36.958200Z",
     "iopub.status.idle": "2022-08-01T09:32:37.462639Z",
     "shell.execute_reply": "2022-08-01T09:32:37.461367Z"
    },
    "papermill": {
     "duration": 0.535592,
     "end_time": "2022-08-01T09:32:37.465577",
     "exception": false,
     "start_time": "2022-08-01T09:32:36.929985",
     "status": "completed"
    },
    "tags": []
   },
   "outputs": [
    {
     "data": {
      "text/plain": [
       "<seaborn.axisgrid.FacetGrid at 0x7f0a52b40550>"
      ]
     },
     "execution_count": 19,
     "metadata": {},
     "output_type": "execute_result"
    },
    {
     "data": {
      "image/png": "[encoded data removed]",
      "text/plain": [
       "<Figure size 432x216 with 2 Axes>"
      ]
     },
     "metadata": {
      "needs_background": "light"
     },
     "output_type": "display_data"
    }
   ],
   "source": [
    "g = sns.FacetGrid(train, col=\"Survived\")\n",
    "g.map_dataframe(sns.histplot, x=\"SibSp\", bins=10)"
   ]
  },
  {
   "cell_type": "code",
   "execution_count": 20,
   "id": "2385b6ae",
   "metadata": {
    "execution": {
     "iopub.execute_input": "2022-08-01T09:32:37.522413Z",
     "iopub.status.busy": "2022-08-01T09:32:37.521983Z",
     "iopub.status.idle": "2022-08-01T09:32:37.997237Z",
     "shell.execute_reply": "2022-08-01T09:32:37.996007Z"
    },
    "papermill": {
     "duration": 0.506481,
     "end_time": "2022-08-01T09:32:38.000029",
     "exception": false,
     "start_time": "2022-08-01T09:32:37.493548",
     "status": "completed"
    },
    "tags": []
   },
   "outputs": [
    {
     "data": {
      "text/plain": [
       "<seaborn.axisgrid.FacetGrid at 0x7f0a5b153ad0>"
      ]
     },
     "execution_count": 20,
     "metadata": {},
     "output_type": "execute_result"
    },
    {
     "data": {
      "image/png": "[encoded data removed]",
      "text/plain": [
       "<Figure size 432x216 with 2 Axes>"
      ]
     },
     "metadata": {
      "needs_background": "light"
     },
     "output_type": "display_data"
    }
   ],
   "source": [
    "g = sns.FacetGrid(train, col=\"Survived\")\n",
    "g.map_dataframe(sns.histplot, x=\"Parch\", bins=10)"
   ]
  },
  {
   "cell_type": "code",
   "execution_count": 21,
   "id": "7d11bdff",
   "metadata": {
    "execution": {
     "iopub.execute_input": "2022-08-01T09:32:38.056986Z",
     "iopub.status.busy": "2022-08-01T09:32:38.056519Z",
     "iopub.status.idle": "2022-08-01T09:32:38.237097Z",
     "shell.execute_reply": "2022-08-01T09:32:38.235628Z"
    },
    "papermill": {
     "duration": 0.212866,
     "end_time": "2022-08-01T09:32:38.239959",
     "exception": false,
     "start_time": "2022-08-01T09:32:38.027093",
     "status": "completed"
    },
    "tags": []
   },
   "outputs": [
    {
     "data": {
      "text/plain": [
       "<AxesSubplot:xlabel='WithSibSp', ylabel='mean survive'>"
      ]
     },
     "execution_count": 21,
     "metadata": {},
     "output_type": "execute_result"
    },
    {
     "data": {
      "image/png": "[encoded data removed]",
      "text/plain": [
       "<Figure size 432x288 with 1 Axes>"
      ]
     },
     "metadata": {
      "needs_background": "light"
     },
     "output_type": "display_data"
    }
   ],
   "source": [
    "df_tmp = train.copy()\n",
    "df_tmp[\"WithSibSp\"] = np.where(train[\"SibSp\"] > 0, 1, 0)\n",
    "\n",
    "df_tmp.groupby('WithSibSp')['Survived'].mean().plot(kind='bar', ylabel='mean survive')"
   ]
  },
  {
   "cell_type": "code",
   "execution_count": 22,
   "id": "127b424b",
   "metadata": {
    "execution": {
     "iopub.execute_input": "2022-08-01T09:32:38.297333Z",
     "iopub.status.busy": "2022-08-01T09:32:38.296160Z",
     "iopub.status.idle": "2022-08-01T09:32:38.452400Z",
     "shell.execute_reply": "2022-08-01T09:32:38.451213Z"
    },
    "papermill": {
     "duration": 0.187666,
     "end_time": "2022-08-01T09:32:38.455101",
     "exception": false,
     "start_time": "2022-08-01T09:32:38.267435",
     "status": "completed"
    },
    "tags": []
   },
   "outputs": [
    {
     "data": {
      "text/plain": [
       "<AxesSubplot:xlabel='WithParch', ylabel='mean survive'>"
      ]
     },
     "execution_count": 22,
     "metadata": {},
     "output_type": "execute_result"
    },
    {
     "data": {
      "image/png": "[encoded data removed]",
      "text/plain": [
       "<Figure size 432x288 with 1 Axes>"
      ]
     },
     "metadata": {
      "needs_background": "light"
     },
     "output_type": "display_data"
    }
   ],
   "source": [
    "df_tmp = train.copy()\n",
    "df_tmp[\"WithParch\"] = np.where(train[\"Parch\"] > 0, 1, 0)\n",
    "\n",
    "df_tmp.groupby('WithParch')['Survived'].mean().plot(kind='bar', ylabel='mean survive')"
   ]
  },
  {
   "cell_type": "code",
   "execution_count": 23,
   "id": "89296dcf",
   "metadata": {
    "execution": {
     "iopub.execute_input": "2022-08-01T09:32:38.516592Z",
     "iopub.status.busy": "2022-08-01T09:32:38.514204Z",
     "iopub.status.idle": "2022-08-01T09:32:38.657709Z",
     "shell.execute_reply": "2022-08-01T09:32:38.656785Z"
    },
    "papermill": {
     "duration": 0.177526,
     "end_time": "2022-08-01T09:32:38.660453",
     "exception": false,
     "start_time": "2022-08-01T09:32:38.482927",
     "status": "completed"
    },
    "tags": []
   },
   "outputs": [
    {
     "data": {
      "text/plain": [
       "<AxesSubplot:xlabel='WithFamily', ylabel='mean survive'>"
      ]
     },
     "execution_count": 23,
     "metadata": {},
     "output_type": "execute_result"
    },
    {
     "data": {
      "image/png": "[encoded data removed]",
      "text/plain": [
       "<Figure size 432x288 with 1 Axes>"
      ]
     },
     "metadata": {
      "needs_background": "light"
     },
     "output_type": "display_data"
    }
   ],
   "source": [
    "df_tmp = train.copy()\n",
    "df_tmp[\"WithFamily\"] = np.where((train[\"SibSp\"] > 0) | (train[\"Parch\"] > 0), 1, 0)\n",
    "\n",
    "df_tmp.groupby('WithFamily')['Survived'].mean().plot(kind='bar', ylabel='mean survive')"
   ]
  },
  {
   "cell_type": "markdown",
   "id": "777b38eb",
   "metadata": {
    "papermill": {
     "duration": 0.027736,
     "end_time": "2022-08-01T09:32:38.717960",
     "exception": false,
     "start_time": "2022-08-01T09:32:38.690224",
     "status": "completed"
    },
    "tags": []
   },
   "source": [
    "**Observations**\n",
    "* higher Pclass = lower survival rate\n",
    "* Pclass coreelated with Fare\n",
    "* SibSp correlated with Parch (family trips)\n",
    "* passengers with family = higher survival rate\n",
    "* Age, SibSp, Parch not coerelated"
   ]
  },
  {
   "cell_type": "markdown",
   "id": "ece6525a",
   "metadata": {
    "papermill": {
     "duration": 0.027807,
     "end_time": "2022-08-01T09:32:38.775163",
     "exception": false,
     "start_time": "2022-08-01T09:32:38.747356",
     "status": "completed"
    },
    "tags": []
   },
   "source": [
    "### Categorical values"
   ]
  },
  {
   "cell_type": "markdown",
   "id": "b1a90883",
   "metadata": {
    "papermill": {
     "duration": 0.028089,
     "end_time": "2022-08-01T09:32:38.831595",
     "exception": false,
     "start_time": "2022-08-01T09:32:38.803506",
     "status": "completed"
    },
    "tags": []
   },
   "source": [
    "#### Sex"
   ]
  },
  {
   "cell_type": "code",
   "execution_count": 24,
   "id": "c9398931",
   "metadata": {
    "execution": {
     "iopub.execute_input": "2022-08-01T09:32:38.893494Z",
     "iopub.status.busy": "2022-08-01T09:32:38.892758Z",
     "iopub.status.idle": "2022-08-01T09:32:39.040936Z",
     "shell.execute_reply": "2022-08-01T09:32:39.039313Z"
    },
    "papermill": {
     "duration": 0.18114,
     "end_time": "2022-08-01T09:32:39.044041",
     "exception": false,
     "start_time": "2022-08-01T09:32:38.862901",
     "status": "completed"
    },
    "tags": []
   },
   "outputs": [
    {
     "data": {
      "text/plain": [
       "<AxesSubplot:xlabel='Sex', ylabel='mean survive'>"
      ]
     },
     "execution_count": 24,
     "metadata": {},
     "output_type": "execute_result"
    },
    {
     "data": {
      "image/png": "[encoded data removed]",
      "text/plain": [
       "<Figure size 432x288 with 1 Axes>"
      ]
     },
     "metadata": {
      "needs_background": "light"
     },
     "output_type": "display_data"
    }
   ],
   "source": [
    "train.groupby('Sex')['Survived'].mean().plot(kind='bar', ylabel='mean survive')"
   ]
  },
  {
   "cell_type": "code",
   "execution_count": 25,
   "id": "7bb6b5af",
   "metadata": {
    "execution": {
     "iopub.execute_input": "2022-08-01T09:32:39.105912Z",
     "iopub.status.busy": "2022-08-01T09:32:39.105460Z",
     "iopub.status.idle": "2022-08-01T09:32:39.910386Z",
     "shell.execute_reply": "2022-08-01T09:32:39.908821Z"
    },
    "papermill": {
     "duration": 0.840316,
     "end_time": "2022-08-01T09:32:39.913739",
     "exception": false,
     "start_time": "2022-08-01T09:32:39.073423",
     "status": "completed"
    },
    "tags": []
   },
   "outputs": [
    {
     "data": {
      "text/plain": [
       "<seaborn.axisgrid.FacetGrid at 0x7f0a526bf750>"
      ]
     },
     "execution_count": 25,
     "metadata": {},
     "output_type": "execute_result"
    },
    {
     "data": {
      "image/png": "[encoded data removed]",
      "text/plain": [
       "<Figure size 432x432 with 4 Axes>"
      ]
     },
     "metadata": {
      "needs_background": "light"
     },
     "output_type": "display_data"
    }
   ],
   "source": [
    "g = sns.FacetGrid(train, row=\"Sex\", col=\"Survived\")\n",
    "g.map_dataframe(sns.histplot, x=\"Age\", bins=10)"
   ]
  },
  {
   "cell_type": "markdown",
   "id": "c176f8db",
   "metadata": {
    "execution": {
     "iopub.execute_input": "2022-07-31T13:30:06.289753Z",
     "iopub.status.busy": "2022-07-31T13:30:06.288917Z",
     "iopub.status.idle": "2022-07-31T13:30:06.298365Z",
     "shell.execute_reply": "2022-07-31T13:30:06.297324Z",
     "shell.execute_reply.started": "2022-07-31T13:30:06.289705Z"
    },
    "papermill": {
     "duration": 0.029726,
     "end_time": "2022-08-01T09:32:39.973523",
     "exception": false,
     "start_time": "2022-08-01T09:32:39.943797",
     "status": "completed"
    },
    "tags": []
   },
   "source": [
    "#### Embarked"
   ]
  },
  {
   "cell_type": "code",
   "execution_count": 26,
   "id": "2ed532dc",
   "metadata": {
    "execution": {
     "iopub.execute_input": "2022-08-01T09:32:40.035145Z",
     "iopub.status.busy": "2022-08-01T09:32:40.033745Z",
     "iopub.status.idle": "2022-08-01T09:32:40.173537Z",
     "shell.execute_reply": "2022-08-01T09:32:40.172316Z"
    },
    "papermill": {
     "duration": 0.173807,
     "end_time": "2022-08-01T09:32:40.176616",
     "exception": false,
     "start_time": "2022-08-01T09:32:40.002809",
     "status": "completed"
    },
    "tags": []
   },
   "outputs": [
    {
     "data": {
      "text/plain": [
       "<AxesSubplot:xlabel='Embarked', ylabel='mean survive'>"
      ]
     },
     "execution_count": 26,
     "metadata": {},
     "output_type": "execute_result"
    },
    {
     "data": {
      "image/png": "[encoded data removed]",
      "text/plain": [
       "<Figure size 432x288 with 1 Axes>"
      ]
     },
     "metadata": {
      "needs_background": "light"
     },
     "output_type": "display_data"
    }
   ],
   "source": [
    "train.groupby('Embarked')['Survived'].mean().plot(kind='bar', ylabel='mean survive')"
   ]
  },
  {
   "cell_type": "code",
   "execution_count": 27,
   "id": "3b89eb67",
   "metadata": {
    "execution": {
     "iopub.execute_input": "2022-08-01T09:32:40.238258Z",
     "iopub.status.busy": "2022-08-01T09:32:40.237796Z",
     "iopub.status.idle": "2022-08-01T09:32:40.425667Z",
     "shell.execute_reply": "2022-08-01T09:32:40.424432Z"
    },
    "papermill": {
     "duration": 0.221703,
     "end_time": "2022-08-01T09:32:40.428492",
     "exception": false,
     "start_time": "2022-08-01T09:32:40.206789",
     "status": "completed"
    },
    "tags": []
   },
   "outputs": [
    {
     "data": {
      "text/plain": [
       "<AxesSubplot:xlabel='Embarked', ylabel='mean fare'>"
      ]
     },
     "execution_count": 27,
     "metadata": {},
     "output_type": "execute_result"
    },
    {
     "data": {
      "image/png": "[encoded data removed]",
      "text/plain": [
       "<Figure size 432x288 with 1 Axes>"
      ]
     },
     "metadata": {
      "needs_background": "light"
     },
     "output_type": "display_data"
    }
   ],
   "source": [
    "train.groupby('Embarked')['Fare'].mean().plot(kind='bar', ylabel='mean fare')"
   ]
  },
  {
   "cell_type": "markdown",
   "id": "bb930430",
   "metadata": {
    "papermill": {
     "duration": 0.02974,
     "end_time": "2022-08-01T09:32:40.488668",
     "exception": false,
     "start_time": "2022-08-01T09:32:40.458928",
     "status": "completed"
    },
    "tags": []
   },
   "source": [
    "# Prepare data"
   ]
  },
  {
   "cell_type": "code",
   "execution_count": 28,
   "id": "994c4d76",
   "metadata": {
    "execution": {
     "iopub.execute_input": "2022-08-01T09:32:40.550418Z",
     "iopub.status.busy": "2022-08-01T09:32:40.550004Z",
     "iopub.status.idle": "2022-08-01T09:32:40.607908Z",
     "shell.execute_reply": "2022-08-01T09:32:40.606880Z"
    },
    "papermill": {
     "duration": 0.091922,
     "end_time": "2022-08-01T09:32:40.610704",
     "exception": false,
     "start_time": "2022-08-01T09:32:40.518782",
     "status": "completed"
    },
    "tags": []
   },
   "outputs": [],
   "source": [
    "X_train = train.drop(\"Survived\", axis=1)\n",
    "X_test = test.copy()\n",
    "y_train = train[\"Survived\"]\n",
    "\n",
    "for df in [X_train, X_test]:\n",
    "    # Age fillna\n",
    "    df['Age'].fillna(train['Age'].dropna().mean(), inplace=True)\n",
    "    # Age cut -> numeric / onehotencoder 0-16-32-rest\n",
    "    df.loc[df['Age'] <= 16, 'Age'] = 0\n",
    "    df.loc[(df['Age'] > 16) & (df['Age'] <= 32), 'Age'] = 1\n",
    "    df.loc[df['Age'] > 32, 'Age'] = 2\n",
    "    df['Age'] = df['Age'].astype(int)\n",
    "    \n",
    "    # SibSp, Parch -> WithFamily\n",
    "    df[\"WithFamily\"] = np.where((df[\"SibSp\"] > 0) | (df[\"Parch\"] > 0), 1, 0)\n",
    "    \n",
    "    # Fare fillna\n",
    "    for i_class in range(1,4):\n",
    "        df.loc[(df['Fare'].isna()) & (df['Pclass'] == i_class), 'Fare'] = train[train['Pclass'] == i_class]['Fare'].mean()\n",
    "    # Fare cut -> numeric / onehotencoder (-0.001, 7.91] < (7.91, 14.454] < (14.454, 31.0] < (31.0, 512.329]\n",
    "    df.loc[df['Fare'] <= 7.91, 'Fare'] = 0\n",
    "    df.loc[(df['Fare'] > 7.91) & (df['Fare'] <= 14.454), 'Fare'] = 1\n",
    "    df.loc[(df['Fare'] > 14.454) & (df['Fare'] <= 31.0), 'Fare'] = 2\n",
    "    df.loc[df['Fare'] > 31.0, 'Fare'] = 3\n",
    "    df['Fare'] = df['Fare'].astype(int)\n",
    "    \n",
    "    # Sex -> numeric\n",
    "    df['Sex'] = df['Sex'].map({'female': 0, 'male': 1}).astype(int)\n",
    "    \n",
    "    # Embarked fillna\n",
    "    df.loc[df['Embarked'].isna() & (df['Fare'] <= 20), 'Embarked'] = 'Q'\n",
    "    df.loc[df['Embarked'].isna() & (df['Fare'] > 20) & (df['Fare'] <= 40), 'Embarked'] = 'S'\n",
    "    df.loc[df['Embarked'].isna() & (df['Fare'] > 40), 'Embarked'] = 'C'\n",
    "    # Embarked -> numeric / onehotencoder\n",
    "    df['Embarked'] = df['Embarked'].map({'C': 0, 'Q': 1, 'S': 2}).astype(int)\n",
    "    \n",
    "    # Drop 'PassengerId', 'Name', 'SibSp', 'Parch', 'Cabin', 'Ticket'\n",
    "    df.drop(['PassengerId', 'Name', 'SibSp', 'Parch', 'Cabin', 'Ticket'], axis=1, inplace=True)"
   ]
  },
  {
   "cell_type": "code",
   "execution_count": 29,
   "id": "6fed78db",
   "metadata": {
    "execution": {
     "iopub.execute_input": "2022-08-01T09:32:40.678003Z",
     "iopub.status.busy": "2022-08-01T09:32:40.675791Z",
     "iopub.status.idle": "2022-08-01T09:32:40.689690Z",
     "shell.execute_reply": "2022-08-01T09:32:40.688795Z"
    },
    "papermill": {
     "duration": 0.049379,
     "end_time": "2022-08-01T09:32:40.692130",
     "exception": false,
     "start_time": "2022-08-01T09:32:40.642751",
     "status": "completed"
    },
    "tags": []
   },
   "outputs": [
    {
     "data": {
      "text/html": [
       "<div>\n",
       "<style scoped>\n",
       "    .dataframe tbody tr th:only-of-type {\n",
       "        vertical-align: middle;\n",
       "    }\n",
       "\n",
       "    .dataframe tbody tr th {\n",
       "        vertical-align: top;\n",
       "    }\n",
       "\n",
       "    .dataframe thead th {\n",
       "        text-align: right;\n",
       "    }\n",
       "</style>\n",
       "<table border=\"1\" class=\"dataframe\">\n",
       "  <thead>\n",
       "    <tr style=\"text-align: right;\">\n",
       "      <th></th>\n",
       "      <th>Pclass</th>\n",
       "      <th>Sex</th>\n",
       "      <th>Age</th>\n",
       "      <th>Fare</th>\n",
       "      <th>Embarked</th>\n",
       "      <th>WithFamily</th>\n",
       "    </tr>\n",
       "  </thead>\n",
       "  <tbody>\n",
       "    <tr>\n",
       "      <th>0</th>\n",
       "      <td>3</td>\n",
       "      <td>1</td>\n",
       "      <td>1</td>\n",
       "      <td>0</td>\n",
       "      <td>2</td>\n",
       "      <td>1</td>\n",
       "    </tr>\n",
       "    <tr>\n",
       "      <th>1</th>\n",
       "      <td>1</td>\n",
       "      <td>0</td>\n",
       "      <td>2</td>\n",
       "      <td>3</td>\n",
       "      <td>0</td>\n",
       "      <td>1</td>\n",
       "    </tr>\n",
       "    <tr>\n",
       "      <th>2</th>\n",
       "      <td>3</td>\n",
       "      <td>0</td>\n",
       "      <td>1</td>\n",
       "      <td>1</td>\n",
       "      <td>2</td>\n",
       "      <td>0</td>\n",
       "    </tr>\n",
       "    <tr>\n",
       "      <th>3</th>\n",
       "      <td>1</td>\n",
       "      <td>0</td>\n",
       "      <td>2</td>\n",
       "      <td>3</td>\n",
       "      <td>2</td>\n",
       "      <td>1</td>\n",
       "    </tr>\n",
       "    <tr>\n",
       "      <th>4</th>\n",
       "      <td>3</td>\n",
       "      <td>1</td>\n",
       "      <td>2</td>\n",
       "      <td>1</td>\n",
       "      <td>2</td>\n",
       "      <td>0</td>\n",
       "    </tr>\n",
       "  </tbody>\n",
       "</table>\n",
       "</div>"
      ],
      "text/plain": [
       "   Pclass  Sex  Age  Fare  Embarked  WithFamily\n",
       "0       3    1    1     0         2           1\n",
       "1       1    0    2     3         0           1\n",
       "2       3    0    1     1         2           0\n",
       "3       1    0    2     3         2           1\n",
       "4       3    1    2     1         2           0"
      ]
     },
     "execution_count": 29,
     "metadata": {},
     "output_type": "execute_result"
    }
   ],
   "source": [
    "X_train.head()"
   ]
  },
  {
   "cell_type": "markdown",
   "id": "ed9e03bb",
   "metadata": {
    "papermill": {
     "duration": 0.030952,
     "end_time": "2022-08-01T09:32:40.755253",
     "exception": false,
     "start_time": "2022-08-01T09:32:40.724301",
     "status": "completed"
    },
    "tags": []
   },
   "source": [
    "# Model"
   ]
  },
  {
   "cell_type": "markdown",
   "id": "01661a94",
   "metadata": {
    "papermill": {
     "duration": 0.029985,
     "end_time": "2022-08-01T09:32:40.816202",
     "exception": false,
     "start_time": "2022-08-01T09:32:40.786217",
     "status": "completed"
    },
    "tags": []
   },
   "source": [
    "### Check base models"
   ]
  },
  {
   "cell_type": "code",
   "execution_count": 30,
   "id": "e4c455d5",
   "metadata": {
    "execution": {
     "iopub.execute_input": "2022-08-01T09:32:40.881165Z",
     "iopub.status.busy": "2022-08-01T09:32:40.880333Z",
     "iopub.status.idle": "2022-08-01T09:32:40.886625Z",
     "shell.execute_reply": "2022-08-01T09:32:40.885532Z"
    },
    "papermill": {
     "duration": 0.04306,
     "end_time": "2022-08-01T09:32:40.889436",
     "exception": false,
     "start_time": "2022-08-01T09:32:40.846376",
     "status": "completed"
    },
    "tags": []
   },
   "outputs": [],
   "source": [
    "svm = SVC()\n",
    "tree = DecisionTreeClassifier()\n",
    "rf = RandomForestClassifier()\n",
    "adaboost = AdaBoostClassifier()\n",
    "xgb = XGBClassifier()\n",
    "xgbrf = XGBRFClassifier()\n",
    "mlp = MLPClassifier()"
   ]
  },
  {
   "cell_type": "code",
   "execution_count": 31,
   "id": "50da8dc4",
   "metadata": {
    "execution": {
     "iopub.execute_input": "2022-08-01T09:32:40.953766Z",
     "iopub.status.busy": "2022-08-01T09:32:40.952995Z",
     "iopub.status.idle": "2022-08-01T09:32:51.255613Z",
     "shell.execute_reply": "2022-08-01T09:32:51.254061Z"
    },
    "papermill": {
     "duration": 10.339923,
     "end_time": "2022-08-01T09:32:51.260755",
     "exception": false,
     "start_time": "2022-08-01T09:32:40.920832",
     "status": "completed"
    },
    "tags": []
   },
   "outputs": [
    {
     "name": "stdout",
     "output_type": "stream",
     "text": [
      "Accuracy for SVC                     = 0.808\n",
      "Accuracy for DecisionTreeClassifier  = 0.804\n",
      "Accuracy for RandomForestClassifier  = 0.806\n",
      "Accuracy for AdaBoostClassifier      = 0.781\n",
      "Accuracy for XGBClassifier           = 0.805\n",
      "Accuracy for XGBRFClassifier         = 0.802\n"
     ]
    },
    {
     "name": "stderr",
     "output_type": "stream",
     "text": [
      "/opt/conda/lib/python3.7/site-packages/sklearn/neural_network/_multilayer_perceptron.py:696: ConvergenceWarning: Stochastic Optimizer: Maximum iterations (200) reached and the optimization hasn't converged yet.\n",
      "  ConvergenceWarning,\n",
      "/opt/conda/lib/python3.7/site-packages/sklearn/neural_network/_multilayer_perceptron.py:696: ConvergenceWarning: Stochastic Optimizer: Maximum iterations (200) reached and the optimization hasn't converged yet.\n",
      "  ConvergenceWarning,\n",
      "/opt/conda/lib/python3.7/site-packages/sklearn/neural_network/_multilayer_perceptron.py:696: ConvergenceWarning: Stochastic Optimizer: Maximum iterations (200) reached and the optimization hasn't converged yet.\n",
      "  ConvergenceWarning,\n",
      "/opt/conda/lib/python3.7/site-packages/sklearn/neural_network/_multilayer_perceptron.py:696: ConvergenceWarning: Stochastic Optimizer: Maximum iterations (200) reached and the optimization hasn't converged yet.\n",
      "  ConvergenceWarning,\n"
     ]
    },
    {
     "name": "stdout",
     "output_type": "stream",
     "text": [
      "Accuracy for MLPClassifier           = 0.791\n"
     ]
    },
    {
     "name": "stderr",
     "output_type": "stream",
     "text": [
      "/opt/conda/lib/python3.7/site-packages/sklearn/neural_network/_multilayer_perceptron.py:696: ConvergenceWarning: Stochastic Optimizer: Maximum iterations (200) reached and the optimization hasn't converged yet.\n",
      "  ConvergenceWarning,\n"
     ]
    }
   ],
   "source": [
    "for model in [svm, tree, rf, adaboost, xgb, xgbrf, mlp]:\n",
    "    print(\"Accuracy for {0:23} = {1}\".format(str(model).split(\"(\")[0], np.round(cross_val_score(model, X_train, y_train, cv=5).mean(), 3)))"
   ]
  },
  {
   "cell_type": "markdown",
   "id": "0e59fe0a",
   "metadata": {
    "papermill": {
     "duration": 0.050337,
     "end_time": "2022-08-01T09:32:51.368871",
     "exception": false,
     "start_time": "2022-08-01T09:32:51.318534",
     "status": "completed"
    },
    "tags": []
   },
   "source": [
    "### Hyperparameters"
   ]
  },
  {
   "cell_type": "markdown",
   "id": "269bf1f0",
   "metadata": {
    "papermill": {
     "duration": 0.030803,
     "end_time": "2022-08-01T09:32:51.432449",
     "exception": false,
     "start_time": "2022-08-01T09:32:51.401646",
     "status": "completed"
    },
    "tags": []
   },
   "source": [
    "### SVM"
   ]
  },
  {
   "cell_type": "code",
   "execution_count": 32,
   "id": "a970ff6f",
   "metadata": {
    "execution": {
     "iopub.execute_input": "2022-08-01T09:32:51.496687Z",
     "iopub.status.busy": "2022-08-01T09:32:51.496296Z",
     "iopub.status.idle": "2022-08-01T09:33:02.260825Z",
     "shell.execute_reply": "2022-08-01T09:33:02.259667Z"
    },
    "papermill": {
     "duration": 10.799576,
     "end_time": "2022-08-01T09:33:02.263390",
     "exception": false,
     "start_time": "2022-08-01T09:32:51.463814",
     "status": "completed"
    },
    "tags": []
   },
   "outputs": [
    {
     "data": {
      "text/plain": [
       "GridSearchCV(cv=5, estimator=SVC(),\n",
       "             param_grid=[{'C': [0.1, 1.0, 10.0], 'gamma': ['scale', 'auto'],\n",
       "                          'kernel': ['linear', 'rbf', 'sigmoid']},\n",
       "                         {'C': [0.1, 1.0, 10.0], 'degree': [2, 3, 4],\n",
       "                          'gamma': ['scale', 'auto'], 'kernel': ['poly']}])"
      ]
     },
     "execution_count": 32,
     "metadata": {},
     "output_type": "execute_result"
    }
   ],
   "source": [
    "params = [\n",
    "    {'C': [0.1, 1.0, 10.0], 'kernel': ['linear', 'rbf', 'sigmoid'], 'gamma': ['scale', 'auto']},\n",
    "    {'C': [0.1, 1.0, 10.0], 'kernel': ['poly'], 'degree': [2, 3, 4], 'gamma': ['scale', 'auto']}\n",
    "]\n",
    "\n",
    "grid_svm = GridSearchCV(svm, params, cv=5)\n",
    "grid_svm.fit(X_train, y_train)"
   ]
  },
  {
   "cell_type": "code",
   "execution_count": 33,
   "id": "3151ec25",
   "metadata": {
    "execution": {
     "iopub.execute_input": "2022-08-01T09:33:02.329775Z",
     "iopub.status.busy": "2022-08-01T09:33:02.328972Z",
     "iopub.status.idle": "2022-08-01T09:33:02.336850Z",
     "shell.execute_reply": "2022-08-01T09:33:02.335876Z"
    },
    "papermill": {
     "duration": 0.044557,
     "end_time": "2022-08-01T09:33:02.339380",
     "exception": false,
     "start_time": "2022-08-01T09:33:02.294823",
     "status": "completed"
    },
    "tags": []
   },
   "outputs": [
    {
     "data": {
      "text/plain": [
       "SVC(C=10.0, gamma='auto', kernel='poly')"
      ]
     },
     "execution_count": 33,
     "metadata": {},
     "output_type": "execute_result"
    }
   ],
   "source": [
    "grid_svm.best_estimator_"
   ]
  },
  {
   "cell_type": "code",
   "execution_count": 34,
   "id": "c3895798",
   "metadata": {
    "execution": {
     "iopub.execute_input": "2022-08-01T09:33:02.404965Z",
     "iopub.status.busy": "2022-08-01T09:33:02.404524Z",
     "iopub.status.idle": "2022-08-01T09:33:02.411635Z",
     "shell.execute_reply": "2022-08-01T09:33:02.410442Z"
    },
    "papermill": {
     "duration": 0.04382,
     "end_time": "2022-08-01T09:33:02.414475",
     "exception": false,
     "start_time": "2022-08-01T09:33:02.370655",
     "status": "completed"
    },
    "tags": []
   },
   "outputs": [
    {
     "data": {
      "text/plain": [
       "0.8181783943255289"
      ]
     },
     "execution_count": 34,
     "metadata": {},
     "output_type": "execute_result"
    }
   ],
   "source": [
    "grid_svm.best_score_"
   ]
  },
  {
   "cell_type": "markdown",
   "id": "153893e2",
   "metadata": {
    "papermill": {
     "duration": 0.032478,
     "end_time": "2022-08-01T09:33:02.478231",
     "exception": false,
     "start_time": "2022-08-01T09:33:02.445753",
     "status": "completed"
    },
    "tags": []
   },
   "source": [
    "#### Random Forest"
   ]
  },
  {
   "cell_type": "code",
   "execution_count": 35,
   "id": "226668e1",
   "metadata": {
    "execution": {
     "iopub.execute_input": "2022-08-01T09:33:02.550142Z",
     "iopub.status.busy": "2022-08-01T09:33:02.549283Z",
     "iopub.status.idle": "2022-08-01T09:35:43.301170Z",
     "shell.execute_reply": "2022-08-01T09:35:43.299258Z"
    },
    "papermill": {
     "duration": 160.820349,
     "end_time": "2022-08-01T09:35:43.335451",
     "exception": false,
     "start_time": "2022-08-01T09:33:02.515102",
     "status": "completed"
    },
    "tags": []
   },
   "outputs": [
    {
     "data": {
      "text/plain": [
       "GridSearchCV(cv=5, estimator=RandomForestClassifier(),\n",
       "             param_grid=[{'max_features': ['sqrt', None],\n",
       "                          'n_estimators': [50, 100, 200]},\n",
       "                         {'max_depth': [5, 10, None], 'max_features': ['sqrt'],\n",
       "                          'min_samples_leaf': [1, 10, 20],\n",
       "                          'n_estimators': [500, 1000]}])"
      ]
     },
     "execution_count": 35,
     "metadata": {},
     "output_type": "execute_result"
    }
   ],
   "source": [
    "params = [\n",
    "    {'n_estimators': [50, 100, 200], 'max_features': ['sqrt', None]},\n",
    "    {'n_estimators': [500, 1000], 'max_features': ['sqrt'], 'max_depth': [5, 10, None], 'min_samples_leaf': [1, 10, 20]}\n",
    "]\n",
    "\n",
    "grid_rf = GridSearchCV(rf, params, cv=5)\n",
    "grid_rf.fit(X_train, y_train)"
   ]
  },
  {
   "cell_type": "code",
   "execution_count": 36,
   "id": "c919438e",
   "metadata": {
    "execution": {
     "iopub.execute_input": "2022-08-01T09:35:43.401675Z",
     "iopub.status.busy": "2022-08-01T09:35:43.400935Z",
     "iopub.status.idle": "2022-08-01T09:35:43.408299Z",
     "shell.execute_reply": "2022-08-01T09:35:43.407217Z"
    },
    "papermill": {
     "duration": 0.042861,
     "end_time": "2022-08-01T09:35:43.410753",
     "exception": false,
     "start_time": "2022-08-01T09:35:43.367892",
     "status": "completed"
    },
    "tags": []
   },
   "outputs": [
    {
     "data": {
      "text/plain": [
       "RandomForestClassifier(max_depth=5, max_features='sqrt', n_estimators=1000)"
      ]
     },
     "execution_count": 36,
     "metadata": {},
     "output_type": "execute_result"
    }
   ],
   "source": [
    "grid_rf.best_estimator_"
   ]
  },
  {
   "cell_type": "code",
   "execution_count": 37,
   "id": "0cc58ad9",
   "metadata": {
    "execution": {
     "iopub.execute_input": "2022-08-01T09:35:43.476816Z",
     "iopub.status.busy": "2022-08-01T09:35:43.476370Z",
     "iopub.status.idle": "2022-08-01T09:35:43.484111Z",
     "shell.execute_reply": "2022-08-01T09:35:43.483026Z"
    },
    "papermill": {
     "duration": 0.043505,
     "end_time": "2022-08-01T09:35:43.486676",
     "exception": false,
     "start_time": "2022-08-01T09:35:43.443171",
     "status": "completed"
    },
    "tags": []
   },
   "outputs": [
    {
     "data": {
      "text/plain": [
       "0.810344611135522"
      ]
     },
     "execution_count": 37,
     "metadata": {},
     "output_type": "execute_result"
    }
   ],
   "source": [
    "grid_rf.best_score_"
   ]
  },
  {
   "cell_type": "markdown",
   "id": "4cb5f3a2",
   "metadata": {
    "papermill": {
     "duration": 0.032195,
     "end_time": "2022-08-01T09:35:43.551637",
     "exception": false,
     "start_time": "2022-08-01T09:35:43.519442",
     "status": "completed"
    },
    "tags": []
   },
   "source": [
    "### XGBClassifier"
   ]
  },
  {
   "cell_type": "code",
   "execution_count": 38,
   "id": "250bae34",
   "metadata": {
    "execution": {
     "iopub.execute_input": "2022-08-01T09:35:43.618407Z",
     "iopub.status.busy": "2022-08-01T09:35:43.617682Z",
     "iopub.status.idle": "2022-08-01T09:37:47.545429Z",
     "shell.execute_reply": "2022-08-01T09:37:47.544161Z"
    },
    "papermill": {
     "duration": 123.991687,
     "end_time": "2022-08-01T09:37:47.575431",
     "exception": false,
     "start_time": "2022-08-01T09:35:43.583744",
     "status": "completed"
    },
    "tags": []
   },
   "outputs": [
    {
     "data": {
      "text/plain": [
       "GridSearchCV(cv=5,\n",
       "             estimator=XGBClassifier(base_score=None, booster=None,\n",
       "                                     callbacks=None, colsample_bylevel=None,\n",
       "                                     colsample_bynode=None,\n",
       "                                     colsample_bytree=None,\n",
       "                                     early_stopping_rounds=None,\n",
       "                                     enable_categorical=False, eval_metric=None,\n",
       "                                     gamma=None, gpu_id=None, grow_policy=None,\n",
       "                                     importance_type=None,\n",
       "                                     interaction_constraints=None,\n",
       "                                     learning_rate=None, max_bin=None,\n",
       "                                     max_ca...\n",
       "                                     max_delta_step=None, max_depth=None,\n",
       "                                     max_leaves=None, min_child_weight=None,\n",
       "                                     missing=nan, monotone_constraints=None,\n",
       "                                     n_estimators=100, n_jobs=None,\n",
       "                                     num_parallel_tree=None, predictor=None,\n",
       "                                     random_state=None, reg_alpha=None,\n",
       "                                     reg_lambda=None, ...),\n",
       "             param_grid=[{'colsample_bynode': [0.7, 0.8, 0.9],\n",
       "                          'learning_rate': [0.8, 1.0, 1.2],\n",
       "                          'reg_lambda': [1e-06, 1e-05, 0.0001],\n",
       "                          'subsample': [0.6, 0.8, 0.9]}])"
      ]
     },
     "execution_count": 38,
     "metadata": {},
     "output_type": "execute_result"
    }
   ],
   "source": [
    "params = [\n",
    "    {'learning_rate': [0.8, 1.0, 1.2], 'subsample': [0.6, 0.8, 0.9], 'colsample_bynode': [0.7, 0.8, 0.9], 'reg_lambda': [1e-06, 1e-05, 1e-04]}\n",
    "]\n",
    "\n",
    "grid_xgb = GridSearchCV(xgb, params, cv=5)\n",
    "grid_xgb.fit(X_train, y_train)"
   ]
  },
  {
   "cell_type": "code",
   "execution_count": 39,
   "id": "a43a44be",
   "metadata": {
    "execution": {
     "iopub.execute_input": "2022-08-01T09:37:47.642206Z",
     "iopub.status.busy": "2022-08-01T09:37:47.641372Z",
     "iopub.status.idle": "2022-08-01T09:37:47.654249Z",
     "shell.execute_reply": "2022-08-01T09:37:47.653377Z"
    },
    "papermill": {
     "duration": 0.048766,
     "end_time": "2022-08-01T09:37:47.656754",
     "exception": false,
     "start_time": "2022-08-01T09:37:47.607988",
     "status": "completed"
    },
    "tags": []
   },
   "outputs": [
    {
     "data": {
      "text/plain": [
       "XGBClassifier(base_score=0.5, booster='gbtree', callbacks=None,\n",
       "              colsample_bylevel=1, colsample_bynode=0.7, colsample_bytree=1,\n",
       "              early_stopping_rounds=None, enable_categorical=False,\n",
       "              eval_metric=None, gamma=0, gpu_id=-1, grow_policy='depthwise',\n",
       "              importance_type=None, interaction_constraints='',\n",
       "              learning_rate=0.8, max_bin=256, max_cat_to_onehot=4,\n",
       "              max_delta_step=0, max_depth=6, max_leaves=0, min_child_weight=1,\n",
       "              missing=nan, monotone_constraints='()', n_estimators=100,\n",
       "              n_jobs=0, num_parallel_tree=1, predictor='auto', random_state=0,\n",
       "              reg_alpha=0, reg_lambda=0.0001, ...)"
      ]
     },
     "execution_count": 39,
     "metadata": {},
     "output_type": "execute_result"
    }
   ],
   "source": [
    "grid_xgb.best_estimator_"
   ]
  },
  {
   "cell_type": "code",
   "execution_count": 40,
   "id": "4c79b119",
   "metadata": {
    "execution": {
     "iopub.execute_input": "2022-08-01T09:37:47.724552Z",
     "iopub.status.busy": "2022-08-01T09:37:47.723788Z",
     "iopub.status.idle": "2022-08-01T09:37:47.729980Z",
     "shell.execute_reply": "2022-08-01T09:37:47.729144Z"
    },
    "papermill": {
     "duration": 0.042251,
     "end_time": "2022-08-01T09:37:47.732284",
     "exception": false,
     "start_time": "2022-08-01T09:37:47.690033",
     "status": "completed"
    },
    "tags": []
   },
   "outputs": [
    {
     "data": {
      "text/plain": [
       "0.8092398468394955"
      ]
     },
     "execution_count": 40,
     "metadata": {},
     "output_type": "execute_result"
    }
   ],
   "source": [
    "grid_xgb.best_score_"
   ]
  },
  {
   "cell_type": "markdown",
   "id": "5eaa8300",
   "metadata": {
    "papermill": {
     "duration": 0.032022,
     "end_time": "2022-08-01T09:37:47.796702",
     "exception": false,
     "start_time": "2022-08-01T09:37:47.764680",
     "status": "completed"
    },
    "tags": []
   },
   "source": [
    "### Voting classifier"
   ]
  },
  {
   "cell_type": "code",
   "execution_count": 41,
   "id": "3333bc08",
   "metadata": {
    "execution": {
     "iopub.execute_input": "2022-08-01T09:37:47.863927Z",
     "iopub.status.busy": "2022-08-01T09:37:47.863161Z",
     "iopub.status.idle": "2022-08-01T09:37:49.654375Z",
     "shell.execute_reply": "2022-08-01T09:37:49.652900Z"
    },
    "papermill": {
     "duration": 1.828761,
     "end_time": "2022-08-01T09:37:49.657849",
     "exception": false,
     "start_time": "2022-08-01T09:37:47.829088",
     "status": "completed"
    },
    "tags": []
   },
   "outputs": [
    {
     "data": {
      "text/plain": [
       "(array([0.81005587, 0.78089888, 0.82022472, 0.80337079, 0.8258427 ]),\n",
       " 0.8080785889146946)"
      ]
     },
     "execution_count": 41,
     "metadata": {},
     "output_type": "execute_result"
    }
   ],
   "source": [
    "from sklearn.ensemble import VotingClassifier\n",
    "clf = VotingClassifier(estimators=[('svm', svm), ('rf', rf), ('xgbrf', xgbrf)], voting='hard')\n",
    "cv = cross_val_score(clf, X_train, y_train, cv=5)\n",
    "cv, cv.mean()"
   ]
  },
  {
   "cell_type": "code",
   "execution_count": 42,
   "id": "f5f13f18",
   "metadata": {
    "execution": {
     "iopub.execute_input": "2022-08-01T09:37:49.729292Z",
     "iopub.status.busy": "2022-08-01T09:37:49.728799Z",
     "iopub.status.idle": "2022-08-01T09:37:57.801072Z",
     "shell.execute_reply": "2022-08-01T09:37:57.800019Z"
    },
    "papermill": {
     "duration": 8.110706,
     "end_time": "2022-08-01T09:37:57.804245",
     "exception": false,
     "start_time": "2022-08-01T09:37:49.693539",
     "status": "completed"
    },
    "tags": []
   },
   "outputs": [
    {
     "data": {
      "text/plain": [
       "(array([0.79888268, 0.79775281, 0.83146067, 0.79213483, 0.84269663]),\n",
       " 0.8125855250768941)"
      ]
     },
     "execution_count": 42,
     "metadata": {},
     "output_type": "execute_result"
    }
   ],
   "source": [
    "from sklearn.ensemble import VotingClassifier\n",
    "clf = VotingClassifier(estimators=[('svm', SVC(C=10.0, gamma='auto', kernel='poly')),\n",
    "                                   ('rf', RandomForestClassifier(max_depth=5, max_features='sqrt', n_estimators=500)),\n",
    "                                   ('xgb', XGBClassifier(learning_rate=0.8, colsample_bynode=0.7, reg_lambda=1e-04))],\n",
    "                       voting='hard')\n",
    "cv = cross_val_score(clf, X_train, y_train, cv=5)\n",
    "cv, cv.mean()"
   ]
  },
  {
   "cell_type": "markdown",
   "id": "fa25467d",
   "metadata": {
    "papermill": {
     "duration": 0.03249,
     "end_time": "2022-08-01T09:37:57.870014",
     "exception": false,
     "start_time": "2022-08-01T09:37:57.837524",
     "status": "completed"
    },
    "tags": []
   },
   "source": [
    "# Final predictions"
   ]
  },
  {
   "cell_type": "code",
   "execution_count": 43,
   "id": "9eeddf5a",
   "metadata": {
    "execution": {
     "iopub.execute_input": "2022-08-01T09:37:57.938847Z",
     "iopub.status.busy": "2022-08-01T09:37:57.938055Z",
     "iopub.status.idle": "2022-08-01T09:37:59.647315Z",
     "shell.execute_reply": "2022-08-01T09:37:59.646320Z"
    },
    "papermill": {
     "duration": 1.747017,
     "end_time": "2022-08-01T09:37:59.650257",
     "exception": false,
     "start_time": "2022-08-01T09:37:57.903240",
     "status": "completed"
    },
    "tags": []
   },
   "outputs": [],
   "source": [
    "clf.fit(X_train, y_train)\n",
    "y_pred = clf.predict(X_test)"
   ]
  },
  {
   "cell_type": "code",
   "execution_count": 44,
   "id": "c37741b8",
   "metadata": {
    "execution": {
     "iopub.execute_input": "2022-08-01T09:37:59.720605Z",
     "iopub.status.busy": "2022-08-01T09:37:59.720184Z",
     "iopub.status.idle": "2022-08-01T09:37:59.730179Z",
     "shell.execute_reply": "2022-08-01T09:37:59.728844Z"
    },
    "papermill": {
     "duration": 0.047644,
     "end_time": "2022-08-01T09:37:59.732901",
     "exception": false,
     "start_time": "2022-08-01T09:37:59.685257",
     "status": "completed"
    },
    "tags": []
   },
   "outputs": [
    {
     "data": {
      "text/plain": [
       "array([0, 0, 0, 0, 0, 0, 1, 0, 1, 0, 0, 0, 1, 0, 1, 1, 0, 0, 0, 0, 0, 0,\n",
       "       1, 0, 1, 0, 1, 0, 0, 0, 0, 0, 0, 0, 0, 0, 0, 0, 0, 0, 0, 0, 0, 1,\n",
       "       1, 0, 0, 0, 1, 0, 0, 0, 1, 1, 0, 0, 0, 0, 0, 1, 0, 0, 0, 1, 1, 1,\n",
       "       1, 0, 0, 1, 1, 0, 0, 0, 1, 0, 0, 1, 0, 1, 0, 0, 0, 0, 0, 0, 1, 0,\n",
       "       1, 1, 0, 0, 1, 0, 0, 0, 1, 0, 1, 0, 1, 0, 0, 0, 1, 0, 0, 0, 0, 0,\n",
       "       0, 1, 1, 1, 1, 0, 0, 0, 0, 1, 1, 0, 1, 0, 0, 0, 0, 1, 0, 0, 0, 0,\n",
       "       0, 0, 0, 0, 0, 0, 0, 0, 0, 1, 0, 0, 0, 0, 0, 0, 0, 0, 1, 0, 0, 0,\n",
       "       0, 0, 1, 1, 0, 0, 1, 0, 1, 0, 0, 0, 0, 0, 1, 0, 0, 0, 0, 0, 0, 1,\n",
       "       1, 0, 1, 1, 0, 0, 1, 0, 1, 0, 1, 0, 0, 0, 0, 0, 0, 0, 1, 0, 1, 1,\n",
       "       0, 0, 1, 1, 0, 1, 0, 0, 0, 0, 1, 0, 0, 0, 0, 1, 0, 0, 1, 0, 1, 0,\n",
       "       1, 0, 1, 0, 1, 1, 0, 1, 0, 0, 1, 1, 0, 0, 0, 0, 0, 0, 1, 1, 1, 1,\n",
       "       0, 0, 0, 0, 1, 0, 1, 1, 1, 0, 0, 0, 0, 0, 0, 0, 1, 0, 0, 0, 1, 0,\n",
       "       0, 0, 0, 0, 0, 0, 0, 0, 1, 1, 0, 1, 0, 0, 0, 0, 0, 1, 1, 1, 0, 0,\n",
       "       0, 0, 0, 0, 0, 1, 0, 0, 0, 0, 1, 0, 0, 0, 0, 0, 0, 0, 1, 1, 0, 1,\n",
       "       0, 0, 0, 0, 0, 0, 1, 1, 0, 0, 0, 0, 0, 0, 0, 0, 1, 0, 1, 0, 0, 0,\n",
       "       1, 0, 0, 1, 0, 0, 0, 0, 0, 0, 0, 0, 0, 1, 0, 1, 0, 0, 0, 1, 1, 0,\n",
       "       0, 0, 0, 0, 1, 0, 0, 0, 0, 1, 1, 0, 1, 0, 0, 0, 1, 0, 0, 1, 0, 0,\n",
       "       1, 1, 0, 0, 0, 0, 0, 0, 0, 0, 0, 1, 0, 0, 0, 0, 0, 1, 0, 0, 0, 1,\n",
       "       0, 1, 0, 0, 1, 0, 1, 0, 0, 0, 0, 0, 1, 0, 1, 1, 1, 0, 1, 0, 0, 0])"
      ]
     },
     "execution_count": 44,
     "metadata": {},
     "output_type": "execute_result"
    }
   ],
   "source": [
    "y_pred"
   ]
  },
  {
   "cell_type": "code",
   "execution_count": 45,
   "id": "928bf40a",
   "metadata": {
    "execution": {
     "iopub.execute_input": "2022-08-01T09:37:59.800331Z",
     "iopub.status.busy": "2022-08-01T09:37:59.799907Z",
     "iopub.status.idle": "2022-08-01T09:37:59.806670Z",
     "shell.execute_reply": "2022-08-01T09:37:59.805623Z"
    },
    "papermill": {
     "duration": 0.043561,
     "end_time": "2022-08-01T09:37:59.809253",
     "exception": false,
     "start_time": "2022-08-01T09:37:59.765692",
     "status": "completed"
    },
    "tags": []
   },
   "outputs": [],
   "source": [
    "submission = pd.DataFrame({\"PassengerId\": test['PassengerId'], \"Survived\": y_pred})"
   ]
  },
  {
   "cell_type": "code",
   "execution_count": 46,
   "id": "ef4fb29d",
   "metadata": {
    "execution": {
     "iopub.execute_input": "2022-08-01T09:37:59.878281Z",
     "iopub.status.busy": "2022-08-01T09:37:59.877397Z",
     "iopub.status.idle": "2022-08-01T09:37:59.891204Z",
     "shell.execute_reply": "2022-08-01T09:37:59.889945Z"
    },
    "papermill": {
     "duration": 0.052887,
     "end_time": "2022-08-01T09:37:59.894928",
     "exception": false,
     "start_time": "2022-08-01T09:37:59.842041",
     "status": "completed"
    },
    "tags": []
   },
   "outputs": [
    {
     "data": {
      "text/html": [
       "<div>\n",
       "<style scoped>\n",
       "    .dataframe tbody tr th:only-of-type {\n",
       "        vertical-align: middle;\n",
       "    }\n",
       "\n",
       "    .dataframe tbody tr th {\n",
       "        vertical-align: top;\n",
       "    }\n",
       "\n",
       "    .dataframe thead th {\n",
       "        text-align: right;\n",
       "    }\n",
       "</style>\n",
       "<table border=\"1\" class=\"dataframe\">\n",
       "  <thead>\n",
       "    <tr style=\"text-align: right;\">\n",
       "      <th></th>\n",
       "      <th>PassengerId</th>\n",
       "      <th>Survived</th>\n",
       "    </tr>\n",
       "  </thead>\n",
       "  <tbody>\n",
       "    <tr>\n",
       "      <th>0</th>\n",
       "      <td>892</td>\n",
       "      <td>0</td>\n",
       "    </tr>\n",
       "    <tr>\n",
       "      <th>1</th>\n",
       "      <td>893</td>\n",
       "      <td>0</td>\n",
       "    </tr>\n",
       "    <tr>\n",
       "      <th>2</th>\n",
       "      <td>894</td>\n",
       "      <td>0</td>\n",
       "    </tr>\n",
       "    <tr>\n",
       "      <th>3</th>\n",
       "      <td>895</td>\n",
       "      <td>0</td>\n",
       "    </tr>\n",
       "    <tr>\n",
       "      <th>4</th>\n",
       "      <td>896</td>\n",
       "      <td>0</td>\n",
       "    </tr>\n",
       "    <tr>\n",
       "      <th>...</th>\n",
       "      <td>...</td>\n",
       "      <td>...</td>\n",
       "    </tr>\n",
       "    <tr>\n",
       "      <th>413</th>\n",
       "      <td>1305</td>\n",
       "      <td>0</td>\n",
       "    </tr>\n",
       "    <tr>\n",
       "      <th>414</th>\n",
       "      <td>1306</td>\n",
       "      <td>1</td>\n",
       "    </tr>\n",
       "    <tr>\n",
       "      <th>415</th>\n",
       "      <td>1307</td>\n",
       "      <td>0</td>\n",
       "    </tr>\n",
       "    <tr>\n",
       "      <th>416</th>\n",
       "      <td>1308</td>\n",
       "      <td>0</td>\n",
       "    </tr>\n",
       "    <tr>\n",
       "      <th>417</th>\n",
       "      <td>1309</td>\n",
       "      <td>0</td>\n",
       "    </tr>\n",
       "  </tbody>\n",
       "</table>\n",
       "<p>418 rows × 2 columns</p>\n",
       "</div>"
      ],
      "text/plain": [
       "     PassengerId  Survived\n",
       "0            892         0\n",
       "1            893         0\n",
       "2            894         0\n",
       "3            895         0\n",
       "4            896         0\n",
       "..           ...       ...\n",
       "413         1305         0\n",
       "414         1306         1\n",
       "415         1307         0\n",
       "416         1308         0\n",
       "417         1309         0\n",
       "\n",
       "[418 rows x 2 columns]"
      ]
     },
     "execution_count": 46,
     "metadata": {},
     "output_type": "execute_result"
    }
   ],
   "source": [
    "submission"
   ]
  },
  {
   "cell_type": "code",
   "execution_count": 47,
   "id": "e8ce6ead",
   "metadata": {
    "execution": {
     "iopub.execute_input": "2022-08-01T09:37:59.966132Z",
     "iopub.status.busy": "2022-08-01T09:37:59.965273Z",
     "iopub.status.idle": "2022-08-01T09:37:59.975104Z",
     "shell.execute_reply": "2022-08-01T09:37:59.974087Z"
    },
    "papermill": {
     "duration": 0.04814,
     "end_time": "2022-08-01T09:37:59.978047",
     "exception": false,
     "start_time": "2022-08-01T09:37:59.929907",
     "status": "completed"
    },
    "tags": []
   },
   "outputs": [],
   "source": [
    "submission.to_csv('submission.csv', index=False)"
   ]
  }
 ],
 "metadata": {
  "kernelspec": {
   "display_name": "Python 3",
   "language": "python",
   "name": "python3"
  },
  "language_info": {
   "codemirror_mode": {
    "name": "ipython",
    "version": 3
   },
   "file_extension": ".py",
   "mimetype": "text/x-python",
   "name": "python",
   "nbconvert_exporter": "python",
   "pygments_lexer": "ipython3",
   "version": "3.7.12"
  },
  "papermill": {
   "default_parameters": {},
   "duration": 344.749015,
   "end_time": "2022-08-01T09:38:00.936044",
   "environment_variables": {},
   "exception": null,
   "input_path": "__notebook__.ipynb",
   "output_path": "__notebook__.ipynb",
   "parameters": {},
   "start_time": "2022-08-01T09:32:16.187029",
   "version": "2.3.4"
  }
 },
 "nbformat": 4,
 "nbformat_minor": 5
}
